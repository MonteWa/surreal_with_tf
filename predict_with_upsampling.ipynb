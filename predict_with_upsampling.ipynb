{
 "cells": [
  {
   "cell_type": "code",
   "execution_count": 1,
   "metadata": {
    "collapsed": true
   },
   "outputs": [
    {
     "name": "stderr",
     "output_type": "stream",
     "text": [
      "C:\\Users\\44163\\AppData\\Local\\Programs\\Python\\Python36\\lib\\site-packages\\h5py\\__init__.py:36: FutureWarning: Conversion of the second argument of issubdtype from `float` to `np.floating` is deprecated. In future, it will be treated as `np.float64 == np.dtype(float).type`.\n  from ._conv import register_converters as _register_converters\n"
     ]
    },
    {
     "name": "stderr",
     "output_type": "stream",
     "text": [
      "Using TensorFlow backend.\n"
     ]
    }
   ],
   "source": [
    "from hourglass_tiny import HourglassModel\n",
    "import os\n",
    "import pandas as pd\n",
    "import scipy.io\n",
    "from scipy.misc import imresize\n",
    "import matplotlib.pyplot as plt\n",
    "from my_utils import *\n",
    "import configparser"
   ]
  },
  {
   "cell_type": "code",
   "execution_count": 2,
   "metadata": {},
   "outputs": [
    {
     "name": "stdout",
     "output_type": "stream",
     "text": [
      "--Parsing Config File\n"
     ]
    }
   ],
   "source": [
    "def process_config(conf_file):\n",
    "\t\"\"\"\n",
    "\t\"\"\"\n",
    "\tparams = {}\n",
    "\tconfig = configparser.ConfigParser()\n",
    "\tconfig.read(conf_file)\n",
    "\tfor section in config.sections():\n",
    "\t\tif section == 'DataSetHG':\n",
    "\t\t\tfor option in config.options(section):\n",
    "\t\t\t\tparams[option] = eval(config.get(section, option))\n",
    "\t\tif section == 'Network':\n",
    "\t\t\tfor option in config.options(section):\n",
    "\t\t\t\tparams[option] = eval(config.get(section, option))\n",
    "\t\tif section == 'Train':\n",
    "\t\t\tfor option in config.options(section):\n",
    "\t\t\t\tparams[option] = eval(config.get(section, option))\n",
    "\t\tif section == 'Validation':\n",
    "\t\t\tfor option in config.options(section):\n",
    "\t\t\t\tparams[option] = eval(config.get(section, option))\n",
    "\t\tif section == 'Saver':\n",
    "\t\t\tfor option in config.options(section):\n",
    "\t\t\t\tparams[option] = eval(config.get(section, option))\n",
    "\treturn params\n",
    "print('--Parsing Config File')\n",
    "params = process_config('config.cfg')"
   ]
  },
  {
   "cell_type": "code",
   "execution_count": 3,
   "metadata": {},
   "outputs": [
    {
     "name": "stdout",
     "output_type": "stream",
     "text": [
      "CREATE MODEL:\n---Inputs : Done (0 sec.)\n"
     ]
    },
    {
     "name": "stdout",
     "output_type": "stream",
     "text": [
      "---Graph : Done (11 sec.)\n---Loss : Done (0 sec.)\n"
     ]
    }
   ],
   "source": [
    "model = HourglassModel(nFeat=params['nfeats'], nStack=params['nstacks'], \n",
    "                       nModules=params['nmodules'], \n",
    "                       nLow=params['nlow'], outputDim=params['num_joints'], \n",
    "                       batch_size=params['batch_size'], attention = params['mcam'],\n",
    "                       training=True, drop_rate= params['dropout_rate'], \n",
    "                       lear_rate=params['learning_rate'], \n",
    "                       decay=params['learning_rate_decay'], \n",
    "                       decay_step=params['decay_step'], \n",
    "                       name=params['name'], \n",
    "                       logdir_train=params['log_dir_train'], \n",
    "                       logdir_test=params['log_dir_test'], \n",
    "                       tiny= params['tiny'], w_loss=params['weighted_loss'] , \n",
    "                       joints= params['joint_list'],modif=False)\n",
    "model.generate_model()"
   ]
  },
  {
   "cell_type": "code",
   "execution_count": 4,
   "metadata": {},
   "outputs": [
    {
     "name": "stdout",
     "output_type": "stream",
     "text": [
      "INFO:tensorflow:Restoring parameters from trained_nets/net_with_pascal_Mar_27_upsampling_2\\save_net.ckpt\n"
     ]
    }
   ],
   "source": [
    "# last map: (None,64,64,15)\n",
    "output_stack = model.output\n",
    "stacks = tf.unstack(output_stack,axis=1)\n",
    "last_map = stacks[3]\n",
    "# add layers for upsampling, from (64,64,15) to (256,256,15)\n",
    "bi_upsampling = tf.image.resize_bilinear(last_map,[256,256],name='bilinear_upsampling')\n",
    "W_last = weight_variable([3,3,15,15],name='W_last')\n",
    "b_last = bias_variable([15],name='b_last')\n",
    "aft_upsam_out = conv2d_basic(bi_upsampling,W_last,b_last)\n",
    "saver = tf.train.Saver()\n",
    "sess = tf.Session()\n",
    "init = tf.global_variables_initializer()\n",
    "sess.run(init)\n",
    "path = \"trained_nets/net_with_pascal_Mar_27_upsampling_2\"\n",
    "full_path = os.path.join(path,'save_net.ckpt')\n",
    "saver.restore(sess,full_path)"
   ]
  },
  {
   "cell_type": "code",
   "execution_count": 5,
   "metadata": {},
   "outputs": [
    {
     "data": {
      "text/html": [
       "<div>\n",
       "<style scoped>\n",
       "    .dataframe tbody tr th:only-of-type {\n",
       "        vertical-align: middle;\n",
       "    }\n",
       "\n",
       "    .dataframe tbody tr th {\n",
       "        vertical-align: top;\n",
       "    }\n",
       "\n",
       "    .dataframe thead th {\n",
       "        text-align: right;\n",
       "    }\n",
       "</style>\n",
       "<table border=\"1\" class=\"dataframe\">\n",
       "  <thead>\n",
       "    <tr style=\"text-align: right;\">\n",
       "      <th></th>\n",
       "      <th>Unnamed: 0</th>\n",
       "      <th>jpg_path</th>\n",
       "      <th>mat_path</th>\n",
       "    </tr>\n",
       "  </thead>\n",
       "  <tbody>\n",
       "    <tr>\n",
       "      <th>0</th>\n",
       "      <td>0</td>\n",
       "      <td>VOC2010/JPEGImages\\2008_000003.jpg</td>\n",
       "      <td>VOC2010/all_person_masks\\2008_000003.mat</td>\n",
       "    </tr>\n",
       "    <tr>\n",
       "      <th>1</th>\n",
       "      <td>1</td>\n",
       "      <td>VOC2010/JPEGImages\\2008_000008.jpg</td>\n",
       "      <td>VOC2010/all_person_masks\\2008_000008.mat</td>\n",
       "    </tr>\n",
       "    <tr>\n",
       "      <th>2</th>\n",
       "      <td>2</td>\n",
       "      <td>VOC2010/JPEGImages\\2008_000023.jpg</td>\n",
       "      <td>VOC2010/all_person_masks\\2008_000023.mat</td>\n",
       "    </tr>\n",
       "    <tr>\n",
       "      <th>3</th>\n",
       "      <td>3</td>\n",
       "      <td>VOC2010/JPEGImages\\2008_000026.jpg</td>\n",
       "      <td>VOC2010/all_person_masks\\2008_000026.mat</td>\n",
       "    </tr>\n",
       "    <tr>\n",
       "      <th>4</th>\n",
       "      <td>4</td>\n",
       "      <td>VOC2010/JPEGImages\\2008_000032.jpg</td>\n",
       "      <td>VOC2010/all_person_masks\\2008_000032.mat</td>\n",
       "    </tr>\n",
       "  </tbody>\n",
       "</table>\n",
       "</div>"
      ],
      "text/plain": [
       "<div>\n",
       "<style scoped>\n",
       "    .dataframe tbody tr th:only-of-type {\n",
       "        vertical-align: middle;\n",
       "    }\n",
       "\n",
       "    .dataframe tbody tr th {\n",
       "        vertical-align: top;\n",
       "    }\n",
       "\n",
       "    .dataframe thead th {\n",
       "        text-align: right;\n",
       "    }\n",
       "</style>\n",
       "<table border=\"1\" class=\"dataframe\">\n",
       "  <thead>\n",
       "    <tr style=\"text-align: right;\">\n",
       "      <th></th>\n",
       "      <th>Unnamed: 0</th>\n",
       "      <th>jpg_path</th>\n",
       "      <th>mat_path</th>\n",
       "    </tr>\n",
       "  </thead>\n",
       "  <tbody>\n",
       "    <tr>\n",
       "      <th>0</th>\n",
       "      <td>0</td>\n",
       "      <td>VOC2010/JPEGImages\\2008_000003.jpg</td>\n",
       "      <td>VOC2010/all_person_masks\\2008_000003.mat</td>\n",
       "    </tr>\n",
       "    <tr>\n",
       "      <th>1</th>\n",
       "      <td>1</td>\n",
       "      <td>VOC2010/JPEGImages\\2008_000008.jpg</td>\n",
       "      <td>VOC2010/all_person_masks\\2008_000008.mat</td>\n",
       "    </tr>\n",
       "    <tr>\n",
       "      <th>2</th>\n",
       "      <td>2</td>\n",
       "      <td>VOC2010/JPEGImages\\2008_000023.jpg</td>\n",
       "      <td>VOC2010/all_person_masks\\2008_000023.mat</td>\n",
       "    </tr>\n",
       "    <tr>\n",
       "      <th>3</th>\n",
       "      <td>3</td>\n",
       "      <td>VOC2010/JPEGImages\\2008_000026.jpg</td>\n",
       "      <td>VOC2010/all_person_masks\\2008_000026.mat</td>\n",
       "    </tr>\n",
       "    <tr>\n",
       "      <th>4</th>\n",
       "      <td>4</td>\n",
       "      <td>VOC2010/JPEGImages\\2008_000032.jpg</td>\n",
       "      <td>VOC2010/all_person_masks\\2008_000032.mat</td>\n",
       "    </tr>\n",
       "  </tbody>\n",
       "</table>\n",
       "</div>"
      ]
     },
     "execution_count": 5,
     "metadata": {},
     "output_type": "execute_result"
    }
   ],
   "source": [
    "pascal_data = pd.read_csv('pacal_data_inform.csv')\n",
    "pascal_data.head()"
   ]
  },
  {
   "cell_type": "code",
   "execution_count": 17,
   "metadata": {},
   "outputs": [],
   "source": [
    "i = 3430\n",
    "img = image.img_to_array(image.load_img(pascal_data['jpg_path'][i]))\n",
    "label = scipy.io.loadmat(pascal_data['mat_path'][i])['single_map']\n",
    "cut1,cut2,cut3 = random_put_into_256map(img,label)\n",
    "plt.figure()\n",
    "plt.imshow(cut3[:,:,0:3]/256)\n",
    "plt.show()\n",
    "plt.figure()\n",
    "plt.imshow(cut3[:,:,3])\n",
    "plt.show()\n",
    "test_image = np.expand_dims(cut3[:,:,0:3],0)\n",
    "output = sess.run(aft_upsam_out,feed_dict={model.img:test_image})\n",
    "output = np.reshape(output,[256,256,15])\n",
    "output = np.argmax(output,axis=2)\n",
    "plt.figure()\n",
    "plt.imshow(output)\n",
    "plt.show()\n"
   ]
  },
  {
   "cell_type": "code",
   "execution_count": 6,
   "metadata": {},
   "outputs": [],
   "source": [
    "acc_list=[]\n",
    "iou_list=[]\n",
    "for i in range(3490,3500):\n",
    "    img = image.img_to_array(image.load_img(pascal_data['jpg_path'][i]))\n",
    "    label = scipy.io.loadmat(pascal_data['mat_path'][i])['single_map']\n",
    "    cut1,cut2,cut3 = random_put_into_256map(img,label)\n",
    "    test_image = np.expand_dims(cut3[:,:,0:3],0)\n",
    "    output = sess.run(aft_upsam_out,feed_dict={model.img:test_image})\n",
    "    output = np.reshape(output,[256,256,15])\n",
    "    output = np.argmax(output,axis=2)\n",
    "    temp_acc = cal_acc(output,cut3[:,:,3])\n",
    "    if temp_acc != 0:\n",
    "        acc_list.append(temp_acc)\n",
    "    temp_iou = cal_iou_for_upsamp(output,cut3[:,:,3])\n",
    "    if temp_iou != 0:\n",
    "        iou_list.append(temp_iou)"
   ]
  },
  {
   "cell_type": "code",
   "execution_count": 11,
   "metadata": {},
   "outputs": [
    {
     "data": {
      "text/plain": [
       "0.1768417777951075"
      ]
     },
     "execution_count": 11,
     "metadata": {},
     "output_type": "execute_result"
    }
   ],
   "source": [
    "np.mean(iou_list)"
   ]
  },
  {
   "cell_type": "code",
   "execution_count": 14,
   "metadata": {},
   "outputs": [
    {
     "data": {
      "text/html": [
       "<div>\n",
       "<style scoped>\n",
       "    .dataframe tbody tr th:only-of-type {\n",
       "        vertical-align: middle;\n",
       "    }\n",
       "\n",
       "    .dataframe tbody tr th {\n",
       "        vertical-align: top;\n",
       "    }\n",
       "\n",
       "    .dataframe thead th {\n",
       "        text-align: right;\n",
       "    }\n",
       "</style>\n",
       "<table border=\"1\" class=\"dataframe\">\n",
       "  <thead>\n",
       "    <tr style=\"text-align: right;\">\n",
       "      <th></th>\n",
       "      <th>Unnamed: 0</th>\n",
       "      <th>data_name</th>\n",
       "      <th>label_name</th>\n",
       "      <th>data_addr</th>\n",
       "      <th>label_addr</th>\n",
       "    </tr>\n",
       "  </thead>\n",
       "  <tbody>\n",
       "    <tr>\n",
       "      <th>0</th>\n",
       "      <td>0</td>\n",
       "      <td>image0.jpg</td>\n",
       "      <td>image0.mat</td>\n",
       "      <td>Sitting/img\\image0.jpg</td>\n",
       "      <td>Sitting/masks\\image0.mat</td>\n",
       "    </tr>\n",
       "    <tr>\n",
       "      <th>1</th>\n",
       "      <td>1</td>\n",
       "      <td>image1.jpg</td>\n",
       "      <td>image1.mat</td>\n",
       "      <td>Sitting/img\\image1.jpg</td>\n",
       "      <td>Sitting/masks\\image1.mat</td>\n",
       "    </tr>\n",
       "    <tr>\n",
       "      <th>2</th>\n",
       "      <td>2</td>\n",
       "      <td>image10.jpg</td>\n",
       "      <td>image10.mat</td>\n",
       "      <td>Sitting/img\\image10.jpg</td>\n",
       "      <td>Sitting/masks\\image10.mat</td>\n",
       "    </tr>\n",
       "    <tr>\n",
       "      <th>3</th>\n",
       "      <td>3</td>\n",
       "      <td>image100.jpg</td>\n",
       "      <td>image100.mat</td>\n",
       "      <td>Sitting/img\\image100.jpg</td>\n",
       "      <td>Sitting/masks\\image100.mat</td>\n",
       "    </tr>\n",
       "    <tr>\n",
       "      <th>4</th>\n",
       "      <td>4</td>\n",
       "      <td>image101.jpg</td>\n",
       "      <td>image101.mat</td>\n",
       "      <td>Sitting/img\\image101.jpg</td>\n",
       "      <td>Sitting/masks\\image101.mat</td>\n",
       "    </tr>\n",
       "  </tbody>\n",
       "</table>\n",
       "</div>"
      ],
      "text/plain": [
       "<div>\n",
       "<style scoped>\n",
       "    .dataframe tbody tr th:only-of-type {\n",
       "        vertical-align: middle;\n",
       "    }\n",
       "\n",
       "    .dataframe tbody tr th {\n",
       "        vertical-align: top;\n",
       "    }\n",
       "\n",
       "    .dataframe thead th {\n",
       "        text-align: right;\n",
       "    }\n",
       "</style>\n",
       "<table border=\"1\" class=\"dataframe\">\n",
       "  <thead>\n",
       "    <tr style=\"text-align: right;\">\n",
       "      <th></th>\n",
       "      <th>Unnamed: 0</th>\n",
       "      <th>data_name</th>\n",
       "      <th>label_name</th>\n",
       "      <th>data_addr</th>\n",
       "      <th>label_addr</th>\n",
       "    </tr>\n",
       "  </thead>\n",
       "  <tbody>\n",
       "    <tr>\n",
       "      <th>0</th>\n",
       "      <td>0</td>\n",
       "      <td>image0.jpg</td>\n",
       "      <td>image0.mat</td>\n",
       "      <td>Sitting/img\\image0.jpg</td>\n",
       "      <td>Sitting/masks\\image0.mat</td>\n",
       "    </tr>\n",
       "    <tr>\n",
       "      <th>1</th>\n",
       "      <td>1</td>\n",
       "      <td>image1.jpg</td>\n",
       "      <td>image1.mat</td>\n",
       "      <td>Sitting/img\\image1.jpg</td>\n",
       "      <td>Sitting/masks\\image1.mat</td>\n",
       "    </tr>\n",
       "    <tr>\n",
       "      <th>2</th>\n",
       "      <td>2</td>\n",
       "      <td>image10.jpg</td>\n",
       "      <td>image10.mat</td>\n",
       "      <td>Sitting/img\\image10.jpg</td>\n",
       "      <td>Sitting/masks\\image10.mat</td>\n",
       "    </tr>\n",
       "    <tr>\n",
       "      <th>3</th>\n",
       "      <td>3</td>\n",
       "      <td>image100.jpg</td>\n",
       "      <td>image100.mat</td>\n",
       "      <td>Sitting/img\\image100.jpg</td>\n",
       "      <td>Sitting/masks\\image100.mat</td>\n",
       "    </tr>\n",
       "    <tr>\n",
       "      <th>4</th>\n",
       "      <td>4</td>\n",
       "      <td>image101.jpg</td>\n",
       "      <td>image101.mat</td>\n",
       "      <td>Sitting/img\\image101.jpg</td>\n",
       "      <td>Sitting/masks\\image101.mat</td>\n",
       "    </tr>\n",
       "  </tbody>\n",
       "</table>\n",
       "</div>"
      ]
     },
     "execution_count": 14,
     "metadata": {},
     "output_type": "execute_result"
    }
   ],
   "source": [
    "sitting_data = pd.read_csv('sitting_data_table.csv')\n",
    "sitting_data.head()"
   ]
  },
  {
   "cell_type": "code",
   "execution_count": 20,
   "metadata": {},
   "outputs": [],
   "source": [
    "i = 23\n",
    "test_img = image.load_img(sitting_data['data_addr'][i])\n",
    "test_img = image.img_to_array(test_img)\n",
    "test_mask = scipy.io.loadmat(sitting_data['label_addr'][i])['M']\n",
    "cut1,cut2,cut3 = random_put_into_256map(test_img,test_mask)\n",
    "plt.figure()\n",
    "plt.imshow(cut3[:,:,0:3]/256)\n",
    "plt.show()\n",
    "plt.figure()\n",
    "plt.imshow(cut3[:,:,3])\n",
    "plt.show()\n",
    "test_image = np.expand_dims(cut3[:,:,0:3],0)\n",
    "output = sess.run(aft_upsam_out,feed_dict={model.img:test_image})\n",
    "output = np.reshape(output,[256,256,15])\n",
    "output = np.argmax(output,axis=2)\n",
    "plt.figure()\n",
    "plt.imshow(output)\n",
    "plt.show()"
   ]
  },
  {
   "cell_type": "code",
   "execution_count": 22,
   "metadata": {},
   "outputs": [],
   "source": [
    "acc_list=[]\n",
    "iou_list=[]\n",
    "for i in range(80,101):\n",
    "    img = image.img_to_array(image.load_img(pascal_data['data_addr'][i]))\n",
    "    label = scipy.io.loadmat(pascal_data['label_addr'][i])['M']\n",
    "    cut1,cut2,cut3 = random_put_into_256map(img,label)\n",
    "    test_image = np.expand_dims(cut3[:,:,0:3],0)\n",
    "    output = sess.run(aft_upsam_out,feed_dict={model.img:test_image})\n",
    "    output = np.reshape(output,[256,256,15])\n",
    "    output = np.argmax(output,axis=2)\n",
    "    temp_acc = cal_acc(output,cut3[:,:,3])\n",
    "    if temp_acc != 0:\n",
    "        acc_list.append(temp_acc)\n",
    "    temp_iou = cal_iou_for_upsamp(output,cut3[:,:,3])\n",
    "    if temp_iou != 0:\n",
    "        iou_list.append(temp_iou)"
   ]
  },
  {
   "cell_type": "code",
   "execution_count": 24,
   "metadata": {},
   "outputs": [
    {
     "data": {
      "text/plain": [
       "0.19615659111699574"
      ]
     },
     "execution_count": 24,
     "metadata": {},
     "output_type": "execute_result"
    }
   ],
   "source": [
    "np.mean(iou_list)"
   ]
  },
  {
   "cell_type": "code",
   "execution_count": null,
   "metadata": {},
   "outputs": [],
   "source": []
  }
 ],
 "metadata": {
  "kernelspec": {
   "display_name": "Python 2",
   "language": "python",
   "name": "python2"
  },
  "language_info": {
   "codemirror_mode": {
    "name": "ipython",
    "version": 2
   },
   "file_extension": ".py",
   "mimetype": "text/x-python",
   "name": "python",
   "nbconvert_exporter": "python",
   "pygments_lexer": "ipython2",
   "version": "2.7.6"
  }
 },
 "nbformat": 4,
 "nbformat_minor": 0
}
