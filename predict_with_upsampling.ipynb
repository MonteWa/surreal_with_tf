{
 "cells": [
  {
   "cell_type": "code",
   "execution_count": 1,
   "metadata": {
    "collapsed": true
   },
   "outputs": [
    {
     "name": "stderr",
     "output_type": "stream",
     "text": [
      "C:\\Users\\44163\\AppData\\Local\\Programs\\Python\\Python36\\lib\\site-packages\\h5py\\__init__.py:36: FutureWarning: Conversion of the second argument of issubdtype from `float` to `np.floating` is deprecated. In future, it will be treated as `np.float64 == np.dtype(float).type`.\n  from ._conv import register_converters as _register_converters\n"
     ]
    },
    {
     "name": "stderr",
     "output_type": "stream",
     "text": [
      "Using TensorFlow backend.\n"
     ]
    }
   ],
   "source": [
    "import tensorflow as tf\n",
    "import numpy as np\n",
    "from hourglass_tiny import HourglassModel\n",
    "from datagen import DataGenerator\n",
    "import configparser\n",
    "import os\n",
    "import pandas as pd\n",
    "from keras.preprocessing import image\n",
    "import scipy.io\n",
    "from scipy.misc import imresize\n",
    "import matplotlib.pyplot as plt\n",
    "import math"
   ]
  },
  {
   "cell_type": "code",
   "execution_count": 2,
   "metadata": {},
   "outputs": [
    {
     "data": {
      "text/html": [
       "<div>\n",
       "<style scoped>\n",
       "    .dataframe tbody tr th:only-of-type {\n",
       "        vertical-align: middle;\n",
       "    }\n",
       "\n",
       "    .dataframe tbody tr th {\n",
       "        vertical-align: top;\n",
       "    }\n",
       "\n",
       "    .dataframe thead th {\n",
       "        text-align: right;\n",
       "    }\n",
       "</style>\n",
       "<table border=\"1\" class=\"dataframe\">\n",
       "  <thead>\n",
       "    <tr style=\"text-align: right;\">\n",
       "      <th></th>\n",
       "      <th>data_name</th>\n",
       "      <th>label_name</th>\n",
       "      <th>data_addr</th>\n",
       "      <th>label_addr</th>\n",
       "    </tr>\n",
       "  </thead>\n",
       "  <tbody>\n",
       "    <tr>\n",
       "      <th>0</th>\n",
       "      <td>image0.jpg</td>\n",
       "      <td>image0.mat</td>\n",
       "      <td>Sitting/img\\image0.jpg</td>\n",
       "      <td>Sitting/masks\\image0.mat</td>\n",
       "    </tr>\n",
       "    <tr>\n",
       "      <th>1</th>\n",
       "      <td>image1.jpg</td>\n",
       "      <td>image1.mat</td>\n",
       "      <td>Sitting/img\\image1.jpg</td>\n",
       "      <td>Sitting/masks\\image1.mat</td>\n",
       "    </tr>\n",
       "    <tr>\n",
       "      <th>2</th>\n",
       "      <td>image10.jpg</td>\n",
       "      <td>image10.mat</td>\n",
       "      <td>Sitting/img\\image10.jpg</td>\n",
       "      <td>Sitting/masks\\image10.mat</td>\n",
       "    </tr>\n",
       "    <tr>\n",
       "      <th>3</th>\n",
       "      <td>image100.jpg</td>\n",
       "      <td>image100.mat</td>\n",
       "      <td>Sitting/img\\image100.jpg</td>\n",
       "      <td>Sitting/masks\\image100.mat</td>\n",
       "    </tr>\n",
       "    <tr>\n",
       "      <th>4</th>\n",
       "      <td>image101.jpg</td>\n",
       "      <td>image101.mat</td>\n",
       "      <td>Sitting/img\\image101.jpg</td>\n",
       "      <td>Sitting/masks\\image101.mat</td>\n",
       "    </tr>\n",
       "  </tbody>\n",
       "</table>\n",
       "</div>"
      ],
      "text/plain": [
       "<div>\n",
       "<style scoped>\n",
       "    .dataframe tbody tr th:only-of-type {\n",
       "        vertical-align: middle;\n",
       "    }\n",
       "\n",
       "    .dataframe tbody tr th {\n",
       "        vertical-align: top;\n",
       "    }\n",
       "\n",
       "    .dataframe thead th {\n",
       "        text-align: right;\n",
       "    }\n",
       "</style>\n",
       "<table border=\"1\" class=\"dataframe\">\n",
       "  <thead>\n",
       "    <tr style=\"text-align: right;\">\n",
       "      <th></th>\n",
       "      <th>data_name</th>\n",
       "      <th>label_name</th>\n",
       "      <th>data_addr</th>\n",
       "      <th>label_addr</th>\n",
       "    </tr>\n",
       "  </thead>\n",
       "  <tbody>\n",
       "    <tr>\n",
       "      <th>0</th>\n",
       "      <td>image0.jpg</td>\n",
       "      <td>image0.mat</td>\n",
       "      <td>Sitting/img\\image0.jpg</td>\n",
       "      <td>Sitting/masks\\image0.mat</td>\n",
       "    </tr>\n",
       "    <tr>\n",
       "      <th>1</th>\n",
       "      <td>image1.jpg</td>\n",
       "      <td>image1.mat</td>\n",
       "      <td>Sitting/img\\image1.jpg</td>\n",
       "      <td>Sitting/masks\\image1.mat</td>\n",
       "    </tr>\n",
       "    <tr>\n",
       "      <th>2</th>\n",
       "      <td>image10.jpg</td>\n",
       "      <td>image10.mat</td>\n",
       "      <td>Sitting/img\\image10.jpg</td>\n",
       "      <td>Sitting/masks\\image10.mat</td>\n",
       "    </tr>\n",
       "    <tr>\n",
       "      <th>3</th>\n",
       "      <td>image100.jpg</td>\n",
       "      <td>image100.mat</td>\n",
       "      <td>Sitting/img\\image100.jpg</td>\n",
       "      <td>Sitting/masks\\image100.mat</td>\n",
       "    </tr>\n",
       "    <tr>\n",
       "      <th>4</th>\n",
       "      <td>image101.jpg</td>\n",
       "      <td>image101.mat</td>\n",
       "      <td>Sitting/img\\image101.jpg</td>\n",
       "      <td>Sitting/masks\\image101.mat</td>\n",
       "    </tr>\n",
       "  </tbody>\n",
       "</table>\n",
       "</div>"
      ]
     },
     "execution_count": 2,
     "metadata": {},
     "output_type": "execute_result"
    }
   ],
   "source": [
    "data_path = os.path.join('Sitting','img')\n",
    "label_path = os.path.join('Sitting','masks')\n",
    "data_names = sorted(os.listdir(data_path))\n",
    "label_names = sorted(os.listdir(label_path))\n",
    "data_addr = []\n",
    "for i in range(len(data_names)):\n",
    "    data_addr.append(os.path.join('Sitting/img',data_names[i]))\n",
    "\n",
    "label_addr = []\n",
    "for i in range(len(label_names)):\n",
    "    label_addr.append(os.path.join('Sitting/masks',label_names[i]))\n",
    "The_Main_List = pd.DataFrame(data_names,columns = ['data_name'])\n",
    "temp_frame1 = pd.DataFrame(label_names,columns=['label_name'])\n",
    "temp_frame2 = pd.DataFrame(data_addr,columns=['data_addr'])\n",
    "temp_frame3 = pd.DataFrame(label_addr,columns=['label_addr'])\n",
    "The_Main_List = pd.concat([The_Main_List,temp_frame1],axis=1)\n",
    "The_Main_List = pd.concat([The_Main_List,temp_frame2],axis=1)\n",
    "The_Main_List = pd.concat([The_Main_List,temp_frame3],axis=1)\n",
    "The_Main_List.head()"
   ]
  },
  {
   "cell_type": "code",
   "execution_count": 3,
   "metadata": {},
   "outputs": [],
   "source": [
    "# load one image\n",
    "def load_image(path):\n",
    "    img = image.load_img(path,target_size=(256,256))\n",
    "    img = image.img_to_array(img)\n",
    "    return img"
   ]
  },
  {
   "cell_type": "code",
   "execution_count": 4,
   "metadata": {},
   "outputs": [],
   "source": [
    "# load one label for upsampling(label size:(None,256,256,15))\n",
    "def load_label_as_gtmap(path):\n",
    "    label = scipy.io.loadmat(path)\n",
    "    label = label['M']\n",
    "    label_resize = imresize(label,[256,256],interp='nearest')\n",
    "    label_resize = label_resize.astype('float32')\n",
    "    label_floor = np.floor(label_resize/18)\n",
    "    # transform to sigle map\n",
    "    map = np.zeros([256,256,15])\n",
    "    for i in range(15):\n",
    "        for n in range(256):\n",
    "            for m in range(256):\n",
    "                if label_floor[n][m] == i:\n",
    "                    map[n,m,i] = 1.0\n",
    "    return map"
   ]
  },
  {
   "cell_type": "code",
   "execution_count": 5,
   "metadata": {},
   "outputs": [],
   "source": [
    "def next_batch(data,label,batch_size):\n",
    "    batch_x = np.zeros([batch_size,256,256,3])\n",
    "    batch_y = np.zeros([batch_size,4,64,64,15])\n",
    "    idx = np.arange(len(data))\n",
    "    np.random.shuffle(idx)\n",
    "    for i in range(batch_size):\n",
    "        batch_x[i] = data[idx[i]]\n",
    "        batch_y[i] = label[idx[i]]\n",
    "    return batch_x,batch_y"
   ]
  },
  {
   "cell_type": "code",
   "execution_count": 6,
   "metadata": {},
   "outputs": [],
   "source": [
    "def weight_variable(shape, stddev=0.02, name=None): #Create tensorflow matrix with  normal random distubotion mean 0 and standart deviation 0.02\n",
    "    # print(shape)\n",
    "    initial = tf.truncated_normal(shape, stddev=stddev)\n",
    "    if name is None:\n",
    "        return tf.Variable(initial)\n",
    "    else:\n",
    "        return tf.get_variable(name, initializer=initial)\n",
    "\n",
    "def bias_variable(shape, name=None):\n",
    "    initial = tf.constant(0.0, shape=shape)\n",
    "    if name is None:\n",
    "        return tf.Variable(initial)\n",
    "    else:\n",
    "        return tf.get_variable(name, initializer=initial)\n",
    "\n",
    "def conv2d_basic(x, W, bias): #Simple conv and biase addition this function is waste of time replace in the code with the tensorflow command\n",
    "    conv = tf.nn.conv2d(x, W, strides=[1, 1, 1, 1], padding=\"SAME\") #Padding same mean the output is same size as input?\n",
    "    return tf.nn.bias_add(conv, bias)"
   ]
  },
  {
   "cell_type": "code",
   "execution_count": 7,
   "metadata": {},
   "outputs": [
    {
     "name": "stdout",
     "output_type": "stream",
     "text": [
      "--Parsing Config File\n"
     ]
    }
   ],
   "source": [
    "def process_config(conf_file):\n",
    "\t\"\"\"\n",
    "\t\"\"\"\n",
    "\tparams = {}\n",
    "\tconfig = configparser.ConfigParser()\n",
    "\tconfig.read(conf_file)\n",
    "\tfor section in config.sections():\n",
    "\t\tif section == 'DataSetHG':\n",
    "\t\t\tfor option in config.options(section):\n",
    "\t\t\t\tparams[option] = eval(config.get(section, option))\n",
    "\t\tif section == 'Network':\n",
    "\t\t\tfor option in config.options(section):\n",
    "\t\t\t\tparams[option] = eval(config.get(section, option))\n",
    "\t\tif section == 'Train':\n",
    "\t\t\tfor option in config.options(section):\n",
    "\t\t\t\tparams[option] = eval(config.get(section, option))\n",
    "\t\tif section == 'Validation':\n",
    "\t\t\tfor option in config.options(section):\n",
    "\t\t\t\tparams[option] = eval(config.get(section, option))\n",
    "\t\tif section == 'Saver':\n",
    "\t\t\tfor option in config.options(section):\n",
    "\t\t\t\tparams[option] = eval(config.get(section, option))\n",
    "\treturn params\n",
    "print('--Parsing Config File')\n",
    "params = process_config('config.cfg')"
   ]
  },
  {
   "cell_type": "code",
   "execution_count": 8,
   "metadata": {},
   "outputs": [
    {
     "name": "stdout",
     "output_type": "stream",
     "text": [
      "CREATE MODEL:\n---Inputs : Done (0 sec.)\n"
     ]
    },
    {
     "name": "stdout",
     "output_type": "stream",
     "text": [
      "---Graph : Done (19 sec.)\n---Loss : Done (0 sec.)\n"
     ]
    }
   ],
   "source": [
    "model = HourglassModel(nFeat=params['nfeats'], nStack=params['nstacks'], \n",
    "                       nModules=params['nmodules'], \n",
    "                       nLow=params['nlow'], outputDim=params['num_joints'], \n",
    "                       batch_size=params['batch_size'], attention = params['mcam'],\n",
    "                       training=True, drop_rate= params['dropout_rate'], \n",
    "                       lear_rate=params['learning_rate'], \n",
    "                       decay=params['learning_rate_decay'], \n",
    "                       decay_step=params['decay_step'], \n",
    "                       name=params['name'], \n",
    "                       logdir_train=params['log_dir_train'], \n",
    "                       logdir_test=params['log_dir_test'], \n",
    "                       tiny= params['tiny'], w_loss=params['weighted_loss'] , \n",
    "                       joints= params['joint_list'],modif=False)\n",
    "model.generate_model()"
   ]
  },
  {
   "cell_type": "code",
   "execution_count": 9,
   "metadata": {},
   "outputs": [],
   "source": [
    "# last map: (None,64,64,15)\n",
    "output_stack = model.output\n",
    "stacks = tf.unstack(output_stack,axis=1)\n",
    "last_map = stacks[3]\n",
    "# add layers for upsampling, from (64,64,15) to (256,256,15)\n",
    "bi_upsampling = tf.image.resize_bilinear(last_map,[256,256],name='bilinear_upsampling')\n",
    "W_last = weight_variable([3,3,15,15],name='W_last')\n",
    "b_last = bias_variable([15],name='b_last')\n",
    "aft_upsam_out = conv2d_basic(bi_upsampling,W_last,b_last)\n",
    "loss = tf.reduce_mean(tf.nn.sigmoid_cross_entropy_with_logits(logits=aft_upsam_out, labels= model.hr_label), \n",
    "                      name= 'cross_entropy_loss')"
   ]
  },
  {
   "cell_type": "code",
   "execution_count": 10,
   "metadata": {
    "collapsed": true
   },
   "outputs": [
    {
     "name": "stdout",
     "output_type": "stream",
     "text": [
      "INFO:tensorflow:Restoring parameters from my_upsampling_net\\save_net.ckpt\n"
     ]
    }
   ],
   "source": [
    "saver = tf.train.Saver()\n",
    "sess = tf.Session()\n",
    "init = tf.global_variables_initializer()\n",
    "sess.run(init)\n",
    "path = \"my_upsampling_net\"\n",
    "full_path = os.path.join(path,'save_net.ckpt')\n",
    "saver.restore(sess,full_path)"
   ]
  },
  {
   "cell_type": "code",
   "execution_count": 14,
   "metadata": {},
   "outputs": [
    {
     "name": "stderr",
     "output_type": "stream",
     "text": [
      "C:\\Users\\44163\\AppData\\Local\\Programs\\Python\\Python36\\lib\\site-packages\\ipykernel_launcher.py:5: DeprecationWarning: `imresize` is deprecated!\n`imresize` is deprecated in SciPy 1.0.0, and will be removed in 1.2.0.\nUse ``skimage.transform.resize`` instead.\n  \"\"\"\n"
     ]
    }
   ],
   "source": [
    "# load one image and the label for checking\n",
    "test_img = load_image(The_Main_List.data_addr[195])\n",
    "test_label = load_label_as_gtmap(The_Main_List.label_addr[195])"
   ]
  },
  {
   "cell_type": "code",
   "execution_count": 15,
   "metadata": {},
   "outputs": [],
   "source": [
    "plt.figure()\n",
    "plt.imshow(test_img/255)\n",
    "plt.show()\n",
    "one_label = np.argmax(test_label,axis=2)\n",
    "plt.figure()\n",
    "plt.imshow(one_label)\n",
    "plt.show()"
   ]
  },
  {
   "cell_type": "code",
   "execution_count": 16,
   "metadata": {},
   "outputs": [],
   "source": [
    "# start predicting\n",
    "test_img = np.expand_dims(test_img,axis=0)\n",
    "prob = sess.run(aft_upsam_out, feed_dict={model.img:test_img})\n",
    "temp_prob = np.reshape(prob,[256,256,15])\n",
    "predict = np.argmax(temp_prob,axis=2)\n",
    "plt.figure()\n",
    "plt.imshow(predict)\n",
    "plt.show()"
   ]
  },
  {
   "cell_type": "code",
   "execution_count": null,
   "metadata": {},
   "outputs": [],
   "source": [
    ""
   ]
  }
 ],
 "metadata": {
  "kernelspec": {
   "display_name": "Python 2",
   "language": "python",
   "name": "python2"
  },
  "language_info": {
   "codemirror_mode": {
    "name": "ipython",
    "version": 2
   },
   "file_extension": ".py",
   "mimetype": "text/x-python",
   "name": "python",
   "nbconvert_exporter": "python",
   "pygments_lexer": "ipython2",
   "version": "2.7.6"
  }
 },
 "nbformat": 4,
 "nbformat_minor": 0
}
