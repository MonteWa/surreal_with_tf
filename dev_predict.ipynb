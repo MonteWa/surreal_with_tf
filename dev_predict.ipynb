{
 "cells": [
  {
   "cell_type": "code",
   "execution_count": 1,
   "metadata": {
    "collapsed": true
   },
   "outputs": [
    {
     "name": "stderr",
     "output_type": "stream",
     "text": [
      "C:\\Users\\44163\\AppData\\Local\\Programs\\Python\\Python36\\lib\\site-packages\\h5py\\__init__.py:36: FutureWarning: Conversion of the second argument of issubdtype from `float` to `np.floating` is deprecated. In future, it will be treated as `np.float64 == np.dtype(float).type`.\n  from ._conv import register_converters as _register_converters\n"
     ]
    },
    {
     "name": "stderr",
     "output_type": "stream",
     "text": [
      "Using TensorFlow backend.\n"
     ]
    }
   ],
   "source": [
    "import tensorflow as tf\n",
    "from hourglass_tiny import HourglassModel\n",
    "import configparser\n",
    "import os\n",
    "import pandas as pd\n",
    "import scipy.io\n",
    "from scipy.misc import imresize\n",
    "import matplotlib.pyplot as plt\n",
    "from my_utils import *"
   ]
  },
  {
   "cell_type": "code",
   "execution_count": 2,
   "metadata": {},
   "outputs": [
    {
     "data": {
      "text/html": [
       "<div>\n",
       "<style scoped>\n",
       "    .dataframe tbody tr th:only-of-type {\n",
       "        vertical-align: middle;\n",
       "    }\n",
       "\n",
       "    .dataframe tbody tr th {\n",
       "        vertical-align: top;\n",
       "    }\n",
       "\n",
       "    .dataframe thead th {\n",
       "        text-align: right;\n",
       "    }\n",
       "</style>\n",
       "<table border=\"1\" class=\"dataframe\">\n",
       "  <thead>\n",
       "    <tr style=\"text-align: right;\">\n",
       "      <th></th>\n",
       "      <th>data_name</th>\n",
       "      <th>label_name</th>\n",
       "      <th>data_addr</th>\n",
       "      <th>label_addr</th>\n",
       "    </tr>\n",
       "  </thead>\n",
       "  <tbody>\n",
       "    <tr>\n",
       "      <th>0</th>\n",
       "      <td>image0.jpg</td>\n",
       "      <td>image0.mat</td>\n",
       "      <td>Sitting/img\\image0.jpg</td>\n",
       "      <td>Sitting/masks\\image0.mat</td>\n",
       "    </tr>\n",
       "    <tr>\n",
       "      <th>1</th>\n",
       "      <td>image1.jpg</td>\n",
       "      <td>image1.mat</td>\n",
       "      <td>Sitting/img\\image1.jpg</td>\n",
       "      <td>Sitting/masks\\image1.mat</td>\n",
       "    </tr>\n",
       "    <tr>\n",
       "      <th>2</th>\n",
       "      <td>image10.jpg</td>\n",
       "      <td>image10.mat</td>\n",
       "      <td>Sitting/img\\image10.jpg</td>\n",
       "      <td>Sitting/masks\\image10.mat</td>\n",
       "    </tr>\n",
       "    <tr>\n",
       "      <th>3</th>\n",
       "      <td>image100.jpg</td>\n",
       "      <td>image100.mat</td>\n",
       "      <td>Sitting/img\\image100.jpg</td>\n",
       "      <td>Sitting/masks\\image100.mat</td>\n",
       "    </tr>\n",
       "    <tr>\n",
       "      <th>4</th>\n",
       "      <td>image101.jpg</td>\n",
       "      <td>image101.mat</td>\n",
       "      <td>Sitting/img\\image101.jpg</td>\n",
       "      <td>Sitting/masks\\image101.mat</td>\n",
       "    </tr>\n",
       "  </tbody>\n",
       "</table>\n",
       "</div>"
      ],
      "text/plain": [
       "<div>\n",
       "<style scoped>\n",
       "    .dataframe tbody tr th:only-of-type {\n",
       "        vertical-align: middle;\n",
       "    }\n",
       "\n",
       "    .dataframe tbody tr th {\n",
       "        vertical-align: top;\n",
       "    }\n",
       "\n",
       "    .dataframe thead th {\n",
       "        text-align: right;\n",
       "    }\n",
       "</style>\n",
       "<table border=\"1\" class=\"dataframe\">\n",
       "  <thead>\n",
       "    <tr style=\"text-align: right;\">\n",
       "      <th></th>\n",
       "      <th>data_name</th>\n",
       "      <th>label_name</th>\n",
       "      <th>data_addr</th>\n",
       "      <th>label_addr</th>\n",
       "    </tr>\n",
       "  </thead>\n",
       "  <tbody>\n",
       "    <tr>\n",
       "      <th>0</th>\n",
       "      <td>image0.jpg</td>\n",
       "      <td>image0.mat</td>\n",
       "      <td>Sitting/img\\image0.jpg</td>\n",
       "      <td>Sitting/masks\\image0.mat</td>\n",
       "    </tr>\n",
       "    <tr>\n",
       "      <th>1</th>\n",
       "      <td>image1.jpg</td>\n",
       "      <td>image1.mat</td>\n",
       "      <td>Sitting/img\\image1.jpg</td>\n",
       "      <td>Sitting/masks\\image1.mat</td>\n",
       "    </tr>\n",
       "    <tr>\n",
       "      <th>2</th>\n",
       "      <td>image10.jpg</td>\n",
       "      <td>image10.mat</td>\n",
       "      <td>Sitting/img\\image10.jpg</td>\n",
       "      <td>Sitting/masks\\image10.mat</td>\n",
       "    </tr>\n",
       "    <tr>\n",
       "      <th>3</th>\n",
       "      <td>image100.jpg</td>\n",
       "      <td>image100.mat</td>\n",
       "      <td>Sitting/img\\image100.jpg</td>\n",
       "      <td>Sitting/masks\\image100.mat</td>\n",
       "    </tr>\n",
       "    <tr>\n",
       "      <th>4</th>\n",
       "      <td>image101.jpg</td>\n",
       "      <td>image101.mat</td>\n",
       "      <td>Sitting/img\\image101.jpg</td>\n",
       "      <td>Sitting/masks\\image101.mat</td>\n",
       "    </tr>\n",
       "  </tbody>\n",
       "</table>\n",
       "</div>"
      ]
     },
     "execution_count": 2,
     "metadata": {},
     "output_type": "execute_result"
    }
   ],
   "source": [
    "data_path = os.path.join('Sitting','img')\n",
    "label_path = os.path.join('Sitting','masks')\n",
    "data_names = sorted(os.listdir(data_path))\n",
    "label_names = sorted(os.listdir(label_path))\n",
    "data_addr = []\n",
    "for i in range(len(data_names)):\n",
    "    data_addr.append(os.path.join('Sitting/img',data_names[i]))\n",
    "\n",
    "label_addr = []\n",
    "for i in range(len(label_names)):\n",
    "    label_addr.append(os.path.join('Sitting/masks',label_names[i]))\n",
    "The_Main_List = pd.DataFrame(data_names,columns = ['data_name'])\n",
    "temp_frame1 = pd.DataFrame(label_names,columns=['label_name'])\n",
    "temp_frame2 = pd.DataFrame(data_addr,columns=['data_addr'])\n",
    "temp_frame3 = pd.DataFrame(label_addr,columns=['label_addr'])\n",
    "The_Main_List = pd.concat([The_Main_List,temp_frame1],axis=1)\n",
    "The_Main_List = pd.concat([The_Main_List,temp_frame2],axis=1)\n",
    "The_Main_List = pd.concat([The_Main_List,temp_frame3],axis=1)\n",
    "The_Main_List.head()\n"
   ]
  },
  {
   "cell_type": "code",
   "execution_count": 3,
   "metadata": {},
   "outputs": [],
   "source": [
    "The_Main_List.to_csv('sitting_data_table.csv')"
   ]
  },
  {
   "cell_type": "code",
   "execution_count": 3,
   "metadata": {},
   "outputs": [
    {
     "name": "stdout",
     "output_type": "stream",
     "text": [
      "--Parsing Config File\n"
     ]
    }
   ],
   "source": [
    "print('--Parsing Config File')\n",
    "params = process_config('config.cfg')"
   ]
  },
  {
   "cell_type": "code",
   "execution_count": 4,
   "metadata": {},
   "outputs": [
    {
     "name": "stdout",
     "output_type": "stream",
     "text": [
      "CREATE MODEL:\n---Inputs : Done (0 sec.)\n"
     ]
    },
    {
     "name": "stdout",
     "output_type": "stream",
     "text": [
      "---Graph : Done (11 sec.)\n---Loss : Done (0 sec.)\n"
     ]
    }
   ],
   "source": [
    "model = HourglassModel(nFeat=params['nfeats'], nStack=params['nstacks'], \n",
    "                       nModules=params['nmodules'], \n",
    "                       nLow=params['nlow'], outputDim=params['num_joints'], \n",
    "                       batch_size=params['batch_size'], attention = params['mcam'],\n",
    "                       training=True, drop_rate= params['dropout_rate'], \n",
    "                       lear_rate=params['learning_rate'], \n",
    "                       decay=params['learning_rate_decay'], \n",
    "                       decay_step=params['decay_step'], \n",
    "                       name=params['name'], \n",
    "                       logdir_train=params['log_dir_train'], \n",
    "                       logdir_test=params['log_dir_test'], \n",
    "                       tiny= params['tiny'], w_loss=params['weighted_loss'] , \n",
    "                       joints= params['joint_list'],modif=False)\n",
    "model.generate_model()"
   ]
  },
  {
   "cell_type": "code",
   "execution_count": 5,
   "metadata": {},
   "outputs": [
    {
     "name": "stdout",
     "output_type": "stream",
     "text": [
      "INFO:tensorflow:Restoring parameters from trained_nets/net_with_pascal_Mar_27\\save_net.ckpt\n"
     ]
    }
   ],
   "source": [
    "saver = tf.train.Saver()\n",
    "sess = tf.Session()\n",
    "init = tf.global_variables_initializer()\n",
    "sess.run(init)\n",
    "\n",
    "path = \"trained_nets/net_with_pascal_Mar_27\"\n",
    "full_path = os.path.join(path,'save_net.ckpt')\n",
    "saver.restore(sess,full_path)"
   ]
  },
  {
   "cell_type": "code",
   "execution_count": 6,
   "metadata": {},
   "outputs": [
    {
     "data": {
      "text/html": [
       "<div>\n",
       "<style scoped>\n",
       "    .dataframe tbody tr th:only-of-type {\n",
       "        vertical-align: middle;\n",
       "    }\n",
       "\n",
       "    .dataframe tbody tr th {\n",
       "        vertical-align: top;\n",
       "    }\n",
       "\n",
       "    .dataframe thead th {\n",
       "        text-align: right;\n",
       "    }\n",
       "</style>\n",
       "<table border=\"1\" class=\"dataframe\">\n",
       "  <thead>\n",
       "    <tr style=\"text-align: right;\">\n",
       "      <th></th>\n",
       "      <th>Unnamed: 0</th>\n",
       "      <th>jpg_path</th>\n",
       "      <th>mat_path</th>\n",
       "    </tr>\n",
       "  </thead>\n",
       "  <tbody>\n",
       "    <tr>\n",
       "      <th>0</th>\n",
       "      <td>0</td>\n",
       "      <td>VOC2010/JPEGImages\\2008_000003.jpg</td>\n",
       "      <td>VOC2010/all_person_masks\\2008_000003.mat</td>\n",
       "    </tr>\n",
       "    <tr>\n",
       "      <th>1</th>\n",
       "      <td>1</td>\n",
       "      <td>VOC2010/JPEGImages\\2008_000008.jpg</td>\n",
       "      <td>VOC2010/all_person_masks\\2008_000008.mat</td>\n",
       "    </tr>\n",
       "    <tr>\n",
       "      <th>2</th>\n",
       "      <td>2</td>\n",
       "      <td>VOC2010/JPEGImages\\2008_000023.jpg</td>\n",
       "      <td>VOC2010/all_person_masks\\2008_000023.mat</td>\n",
       "    </tr>\n",
       "    <tr>\n",
       "      <th>3</th>\n",
       "      <td>3</td>\n",
       "      <td>VOC2010/JPEGImages\\2008_000026.jpg</td>\n",
       "      <td>VOC2010/all_person_masks\\2008_000026.mat</td>\n",
       "    </tr>\n",
       "    <tr>\n",
       "      <th>4</th>\n",
       "      <td>4</td>\n",
       "      <td>VOC2010/JPEGImages\\2008_000032.jpg</td>\n",
       "      <td>VOC2010/all_person_masks\\2008_000032.mat</td>\n",
       "    </tr>\n",
       "  </tbody>\n",
       "</table>\n",
       "</div>"
      ],
      "text/plain": [
       "<div>\n",
       "<style scoped>\n",
       "    .dataframe tbody tr th:only-of-type {\n",
       "        vertical-align: middle;\n",
       "    }\n",
       "\n",
       "    .dataframe tbody tr th {\n",
       "        vertical-align: top;\n",
       "    }\n",
       "\n",
       "    .dataframe thead th {\n",
       "        text-align: right;\n",
       "    }\n",
       "</style>\n",
       "<table border=\"1\" class=\"dataframe\">\n",
       "  <thead>\n",
       "    <tr style=\"text-align: right;\">\n",
       "      <th></th>\n",
       "      <th>Unnamed: 0</th>\n",
       "      <th>jpg_path</th>\n",
       "      <th>mat_path</th>\n",
       "    </tr>\n",
       "  </thead>\n",
       "  <tbody>\n",
       "    <tr>\n",
       "      <th>0</th>\n",
       "      <td>0</td>\n",
       "      <td>VOC2010/JPEGImages\\2008_000003.jpg</td>\n",
       "      <td>VOC2010/all_person_masks\\2008_000003.mat</td>\n",
       "    </tr>\n",
       "    <tr>\n",
       "      <th>1</th>\n",
       "      <td>1</td>\n",
       "      <td>VOC2010/JPEGImages\\2008_000008.jpg</td>\n",
       "      <td>VOC2010/all_person_masks\\2008_000008.mat</td>\n",
       "    </tr>\n",
       "    <tr>\n",
       "      <th>2</th>\n",
       "      <td>2</td>\n",
       "      <td>VOC2010/JPEGImages\\2008_000023.jpg</td>\n",
       "      <td>VOC2010/all_person_masks\\2008_000023.mat</td>\n",
       "    </tr>\n",
       "    <tr>\n",
       "      <th>3</th>\n",
       "      <td>3</td>\n",
       "      <td>VOC2010/JPEGImages\\2008_000026.jpg</td>\n",
       "      <td>VOC2010/all_person_masks\\2008_000026.mat</td>\n",
       "    </tr>\n",
       "    <tr>\n",
       "      <th>4</th>\n",
       "      <td>4</td>\n",
       "      <td>VOC2010/JPEGImages\\2008_000032.jpg</td>\n",
       "      <td>VOC2010/all_person_masks\\2008_000032.mat</td>\n",
       "    </tr>\n",
       "  </tbody>\n",
       "</table>\n",
       "</div>"
      ]
     },
     "execution_count": 6,
     "metadata": {},
     "output_type": "execute_result"
    }
   ],
   "source": [
    "pascal_data = pd.read_csv('pacal_data_inform.csv')\n",
    "pascal_data.head()"
   ]
  },
  {
   "cell_type": "code",
   "execution_count": 17,
   "metadata": {},
   "outputs": [],
   "source": [
    "i = 3431\n",
    "img = image.img_to_array(image.load_img(pascal_data['jpg_path'][i]))\n",
    "label = scipy.io.loadmat(pascal_data['mat_path'][i])['single_map']\n",
    "cut1,cut2,cut3 = random_put_into_256map(img,label)\n",
    "plt.figure()\n",
    "plt.imshow(cut3[:,:,0:3]/256)\n",
    "plt.show()\n",
    "test_image = np.expand_dims(cut3[:,:,0:3],0)\n",
    "output = sess.run(model.output,feed_dict={model.img:test_image})\n",
    "out = output[0,3]\n",
    "seg = np.argmax(out,axis=2)\n",
    "plt.figure()\n",
    "plt.imshow(seg)\n",
    "plt.show()"
   ]
  },
  {
   "cell_type": "code",
   "execution_count": 18,
   "metadata": {},
   "outputs": [],
   "source": [
    "acc_list=[]\n",
    "iou_list=[]\n",
    "for i in range(3450,3500):\n",
    "    img = image.img_to_array(image.load_img(pascal_data['jpg_path'][i]))\n",
    "    label = scipy.io.loadmat(pascal_data['mat_path'][i])['single_map']\n",
    "    cut1,cut2,cut3 = random_put_into_256map(img,label)\n",
    "    test_image = np.expand_dims(cut3[:,:,0:3],0)\n",
    "    output = sess.run(model.output,feed_dict={model.img:test_image})\n",
    "    out = output[0,3]\n",
    "    seg = np.argmax(out,axis=2)\n",
    "    temp_acc = cal_acc(seg,my_scale(cut3[:,:,3]))\n",
    "    if temp_acc != 0:\n",
    "        acc_list.append(temp_acc)\n",
    "    temp_iou = cal_iou(seg,my_scale(cut3[:,:,3]))\n",
    "    if temp_iou != 0:\n",
    "        iou_list.append(temp_iou)"
   ]
  },
  {
   "cell_type": "code",
   "execution_count": 20,
   "metadata": {},
   "outputs": [
    {
     "data": {
      "text/plain": [
       "0.11429012744481745"
      ]
     },
     "execution_count": 20,
     "metadata": {},
     "output_type": "execute_result"
    }
   ],
   "source": [
    "np.mean(iou_list)"
   ]
  },
  {
   "cell_type": "code",
   "execution_count": 10,
   "metadata": {},
   "outputs": [],
   "source": [
    "i = 46\n",
    "img = image.img_to_array(image.load_img(The_Main_List['data_addr'][i]))\n",
    "label = scipy.io.loadmat(The_Main_List['label_addr'][i])['M']\n",
    "cut1,cut2,cut3 = random_put_into_256map(img,label)\n",
    "plt.figure()\n",
    "plt.imshow(cut3[:,:,0:3]/256)\n",
    "plt.show()\n",
    "test_image = np.expand_dims(cut3[:,:,0:3],0)\n",
    "output = sess.run(model.output,feed_dict={model.img:test_image})\n",
    "out = output[0,3]\n",
    "seg = np.argmax(out,axis=2)\n",
    "plt.figure()\n",
    "plt.imshow(seg)\n",
    "plt.show()"
   ]
  },
  {
   "cell_type": "code",
   "execution_count": 26,
   "metadata": {},
   "outputs": [],
   "source": [
    "acc_list=[]\n",
    "iou_list=[]\n",
    "for i in range(20):\n",
    "    img = image.img_to_array(image.load_img(The_Main_List['data_addr'][i]))\n",
    "    label = scipy.io.loadmat(The_Main_List['label_addr'][i])['M']\n",
    "    cut1,cut2,cut3 = random_put_into_256map(img,label)\n",
    "    test_image = np.expand_dims(cut3[:,:,0:3],0)\n",
    "    output = sess.run(model.output,feed_dict={model.img:test_image})\n",
    "    out = output[0,3]\n",
    "    seg = np.argmax(out,axis=2)\n",
    "    temp_acc = cal_acc(seg,my_scale(cut3[:,:,3]))\n",
    "    if temp_acc != 0:\n",
    "        acc_list.append(temp_acc)\n",
    "    temp_iou = cal_iou(seg,my_scale(cut3[:,:,3]))\n",
    "    if temp_iou != 0:\n",
    "        iou_list.append(temp_iou)"
   ]
  },
  {
   "cell_type": "code",
   "execution_count": 28,
   "metadata": {},
   "outputs": [
    {
     "data": {
      "text/plain": [
       "0.22543014601631825"
      ]
     },
     "execution_count": 28,
     "metadata": {},
     "output_type": "execute_result"
    }
   ],
   "source": [
    "np.mean(iou_list)"
   ]
  },
  {
   "cell_type": "code",
   "execution_count": 11,
   "metadata": {},
   "outputs": [
    {
     "data": {
      "text/html": [
       "<div>\n",
       "<style scoped>\n",
       "    .dataframe tbody tr th:only-of-type {\n",
       "        vertical-align: middle;\n",
       "    }\n",
       "\n",
       "    .dataframe tbody tr th {\n",
       "        vertical-align: top;\n",
       "    }\n",
       "\n",
       "    .dataframe thead th {\n",
       "        text-align: right;\n",
       "    }\n",
       "</style>\n",
       "<table border=\"1\" class=\"dataframe\">\n",
       "  <thead>\n",
       "    <tr style=\"text-align: right;\">\n",
       "      <th></th>\n",
       "      <th>Unnamed: 0</th>\n",
       "      <th>jpg</th>\n",
       "      <th>mat</th>\n",
       "    </tr>\n",
       "  </thead>\n",
       "  <tbody>\n",
       "    <tr>\n",
       "      <th>0</th>\n",
       "      <td>0</td>\n",
       "      <td>surreal_data/images\\0.jpg</td>\n",
       "      <td>surreal_data/masks\\0.mat</td>\n",
       "    </tr>\n",
       "    <tr>\n",
       "      <th>1</th>\n",
       "      <td>1</td>\n",
       "      <td>surreal_data/images\\1.jpg</td>\n",
       "      <td>surreal_data/masks\\1.mat</td>\n",
       "    </tr>\n",
       "    <tr>\n",
       "      <th>2</th>\n",
       "      <td>2</td>\n",
       "      <td>surreal_data/images\\10.jpg</td>\n",
       "      <td>surreal_data/masks\\10.mat</td>\n",
       "    </tr>\n",
       "    <tr>\n",
       "      <th>3</th>\n",
       "      <td>3</td>\n",
       "      <td>surreal_data/images\\100.jpg</td>\n",
       "      <td>surreal_data/masks\\100.mat</td>\n",
       "    </tr>\n",
       "    <tr>\n",
       "      <th>4</th>\n",
       "      <td>4</td>\n",
       "      <td>surreal_data/images\\1000.jpg</td>\n",
       "      <td>surreal_data/masks\\1000.mat</td>\n",
       "    </tr>\n",
       "  </tbody>\n",
       "</table>\n",
       "</div>"
      ],
      "text/plain": [
       "<div>\n",
       "<style scoped>\n",
       "    .dataframe tbody tr th:only-of-type {\n",
       "        vertical-align: middle;\n",
       "    }\n",
       "\n",
       "    .dataframe tbody tr th {\n",
       "        vertical-align: top;\n",
       "    }\n",
       "\n",
       "    .dataframe thead th {\n",
       "        text-align: right;\n",
       "    }\n",
       "</style>\n",
       "<table border=\"1\" class=\"dataframe\">\n",
       "  <thead>\n",
       "    <tr style=\"text-align: right;\">\n",
       "      <th></th>\n",
       "      <th>Unnamed: 0</th>\n",
       "      <th>jpg</th>\n",
       "      <th>mat</th>\n",
       "    </tr>\n",
       "  </thead>\n",
       "  <tbody>\n",
       "    <tr>\n",
       "      <th>0</th>\n",
       "      <td>0</td>\n",
       "      <td>surreal_data/images\\0.jpg</td>\n",
       "      <td>surreal_data/masks\\0.mat</td>\n",
       "    </tr>\n",
       "    <tr>\n",
       "      <th>1</th>\n",
       "      <td>1</td>\n",
       "      <td>surreal_data/images\\1.jpg</td>\n",
       "      <td>surreal_data/masks\\1.mat</td>\n",
       "    </tr>\n",
       "    <tr>\n",
       "      <th>2</th>\n",
       "      <td>2</td>\n",
       "      <td>surreal_data/images\\10.jpg</td>\n",
       "      <td>surreal_data/masks\\10.mat</td>\n",
       "    </tr>\n",
       "    <tr>\n",
       "      <th>3</th>\n",
       "      <td>3</td>\n",
       "      <td>surreal_data/images\\100.jpg</td>\n",
       "      <td>surreal_data/masks\\100.mat</td>\n",
       "    </tr>\n",
       "    <tr>\n",
       "      <th>4</th>\n",
       "      <td>4</td>\n",
       "      <td>surreal_data/images\\1000.jpg</td>\n",
       "      <td>surreal_data/masks\\1000.mat</td>\n",
       "    </tr>\n",
       "  </tbody>\n",
       "</table>\n",
       "</div>"
      ]
     },
     "execution_count": 11,
     "metadata": {},
     "output_type": "execute_result"
    }
   ],
   "source": [
    "surreal_data = pd.read_csv('surreal_data_table.csv')\n",
    "surreal_data.head()"
   ]
  },
  {
   "cell_type": "code",
   "execution_count": 14,
   "metadata": {},
   "outputs": [],
   "source": [
    "i = 18\n",
    "test_img = image.load_img(surreal_data['jpg'][i])\n",
    "test_img = image.img_to_array(test_img)\n",
    "test_mask = scipy.io.loadmat(surreal_data['mat'][i])['mask']\n",
    "cut1,cut2,cut3 = random_put_into_256map(test_img,test_mask)\n",
    "plt.figure()\n",
    "plt.imshow(cut3[:,:,0:3]/256)\n",
    "plt.show()\n",
    "test_image = np.expand_dims(cut3[:,:,0:3],0)\n",
    "output = sess.run(model.output,feed_dict={model.img:test_image})\n",
    "out = output[0,3]\n",
    "seg = np.argmax(out,axis=2)\n",
    "plt.figure()\n",
    "plt.imshow(seg)\n",
    "plt.show()"
   ]
  },
  {
   "cell_type": "code",
   "execution_count": 35,
   "metadata": {},
   "outputs": [],
   "source": [
    "acc_list=[]\n",
    "iou_list=[]\n",
    "for i in range(3450,3500):\n",
    "    test_img = image.load_img(surreal_data['jpg'][i])\n",
    "    test_img = image.img_to_array(test_img)\n",
    "    test_mask = scipy.io.loadmat(surreal_data['mat'][i])['mask']\n",
    "    cut1,cut2,cut3 = random_put_into_256map(test_img,test_mask)\n",
    "    test_image = np.expand_dims(cut3[:,:,0:3],0)\n",
    "    output = sess.run(model.output,feed_dict={model.img:test_image})\n",
    "    out = output[0,3]\n",
    "    seg = np.argmax(out,axis=2)\n",
    "    temp_acc = cal_acc(seg,my_scale(cut3[:,:,3]))\n",
    "    if temp_acc != 0:\n",
    "        acc_list.append(temp_acc)\n",
    "    temp_iou = cal_iou(seg,my_scale(cut3[:,:,3]))\n",
    "    if temp_iou != 0:\n",
    "        iou_list.append(temp_iou)"
   ]
  },
  {
   "cell_type": "code",
   "execution_count": 37,
   "metadata": {},
   "outputs": [
    {
     "data": {
      "text/plain": [
       "0.7487492679283918"
      ]
     },
     "execution_count": 37,
     "metadata": {},
     "output_type": "execute_result"
    }
   ],
   "source": [
    "np.mean(acc_list)"
   ]
  },
  {
   "cell_type": "code",
   "execution_count": 56,
   "metadata": {},
   "outputs": [],
   "source": [
    "img = image.img_to_array(image.load_img('me.JPG',target_size=[256,256]))\n",
    "plt.figure()\n",
    "plt.imshow(img/255)\n",
    "plt.show()\n",
    "test_image = np.expand_dims(img,0)\n",
    "output = sess.run(model.output,feed_dict={model.img:test_image})\n",
    "out = output[0,3]\n",
    "seg = np.argmax(out,axis=2)\n",
    "plt.figure()\n",
    "plt.imshow(seg)\n",
    "plt.show()"
   ]
  },
  {
   "cell_type": "code",
   "execution_count": null,
   "metadata": {},
   "outputs": [],
   "source": []
  }
 ],
 "metadata": {
  "kernelspec": {
   "display_name": "Python 2",
   "language": "python",
   "name": "python2"
  },
  "language_info": {
   "codemirror_mode": {
    "name": "ipython",
    "version": 2
   },
   "file_extension": ".py",
   "mimetype": "text/x-python",
   "name": "python",
   "nbconvert_exporter": "python",
   "pygments_lexer": "ipython2",
   "version": "2.7.6"
  }
 },
 "nbformat": 4,
 "nbformat_minor": 0
}
