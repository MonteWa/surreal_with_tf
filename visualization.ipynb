{
 "cells": [
  {
   "cell_type": "code",
   "execution_count": 1,
   "metadata": {
    "collapsed": true
   },
   "outputs": [
    {
     "name": "stderr",
     "output_type": "stream",
     "text": [
      "C:\\Users\\44163\\AppData\\Local\\Programs\\Python\\Python36\\lib\\site-packages\\h5py\\__init__.py:36: FutureWarning: Conversion of the second argument of issubdtype from `float` to `np.floating` is deprecated. In future, it will be treated as `np.float64 == np.dtype(float).type`.\n  from ._conv import register_converters as _register_converters\n"
     ]
    },
    {
     "name": "stderr",
     "output_type": "stream",
     "text": [
      "Using TensorFlow backend.\n"
     ]
    }
   ],
   "source": [
    "from __future__ import division\n",
    "import tensorflow as tf\n",
    "from hourglass_tiny import HourglassModel\n",
    "import scipy.io\n",
    "from my_utils import *\n",
    "from tensorflow.python.ops import gen_nn_ops\n",
    "import os\n",
    "import matplotlib.pyplot as plt\n",
    "import pandas as pd"
   ]
  },
  {
   "cell_type": "code",
   "execution_count": 2,
   "metadata": {
    "collapsed": true
   },
   "outputs": [
    {
     "name": "stdout",
     "output_type": "stream",
     "text": [
      "--Parsing Config File\nCREATE MODEL:\n---Inputs : Done (0 sec.)\n"
     ]
    },
    {
     "name": "stdout",
     "output_type": "stream",
     "text": [
      "---Graph : Done (12 sec.)\n---Loss : Done (0 sec.)\n"
     ]
    },
    {
     "name": "stdout",
     "output_type": "stream",
     "text": [
      "INFO:tensorflow:Restoring parameters from trained_nets/net_with_surreal_mar_26\\save_net.ckpt\n"
     ]
    }
   ],
   "source": [
    "@tf.RegisterGradient(\"GuidedRelu\")\n",
    "def _GuidedReluGrad(op, grad):\n",
    "    return tf.where(0. < grad, gen_nn_ops._relu_grad(grad, op.outputs[0]), tf.zeros_like(grad))\n",
    "g = tf.get_default_graph()\n",
    "with g.gradient_override_map({\"Relu\": \"GuidedRelu\"}):\n",
    "    print('--Parsing Config File')\n",
    "    params = process_config('config.cfg')\n",
    "    model = HourglassModel(nFeat=params['nfeats'], nStack=params['nstacks'],\n",
    "                       nModules=params['nmodules'],\n",
    "                       nLow=params['nlow'], outputDim=params['num_joints'],\n",
    "                       batch_size=params['batch_size'], attention = params['mcam'],\n",
    "                       training=True, drop_rate= params['dropout_rate'],\n",
    "                       lear_rate=params['learning_rate'],\n",
    "                       decay=params['learning_rate_decay'],\n",
    "                       decay_step=params['decay_step'],\n",
    "                       name=params['name'],\n",
    "                       logdir_train=params['log_dir_train'],\n",
    "                       logdir_test=params['log_dir_test'],\n",
    "                       tiny= params['tiny'], w_loss=params['weighted_loss'] ,\n",
    "                       joints= params['joint_list'],modif=False)\n",
    "    model.generate_model()\n",
    "    # restore old net to continue training\n",
    "    path = \"trained_nets/net_with_surreal_mar_26\"\n",
    "    full_path = os.path.join(path,'save_net.ckpt')\n",
    "\n",
    "    # output: (None,4,64,64,15)\n",
    "    output = model.get_output()\n",
    "    # get input\n",
    "    inpt = model.img\n",
    "    # get output\n",
    "    out = output[0,3]\n",
    "    pred_seg = tf.argmax(out,axis=2)\n",
    "   \n",
    "    sess = tf.Session()\n",
    "    init = tf.global_variables_initializer()\n",
    "    sess.run(init)\n",
    "    saver = tf.train.Saver()\n",
    "    saver.restore(sess,full_path) "
   ]
  },
  {
   "cell_type": "markdown",
   "metadata": {},
   "source": [
    "# 1.load data"
   ]
  },
  {
   "cell_type": "markdown",
   "metadata": {},
   "source": [
    "## surreal"
   ]
  },
  {
   "cell_type": "code",
   "execution_count": 7,
   "metadata": {},
   "outputs": [],
   "source": [
    "surreal_data = pd.read_csv('surreal_data_table.csv')\n",
    "surreal_data.head()\n",
    "i = 3003\n",
    "img = image.img_to_array(image.load_img(surreal_data['jpg'][i]))\n",
    "label = scipy.io.loadmat(surreal_data['mat'][i])['mask']\n",
    "cut1,cut2,cut3 = random_put_into_256map(img,label)\n",
    "test_img = cut3[:,:,0:3]\n",
    "plt.figure()\n",
    "plt.imshow(test_img/255)\n",
    "plt.show()\n",
    "input_img = np.expand_dims(test_img,axis=0)"
   ]
  },
  {
   "cell_type": "markdown",
   "metadata": {},
   "source": [
    "## pascal"
   ]
  },
  {
   "cell_type": "code",
   "execution_count": null,
   "metadata": {},
   "outputs": [],
   "source": [
    "pascal_data = pd.read_csv('pacal_data_inform.csv')\n",
    "pascal_data.head()\n",
    "i = 3427\n",
    "img = image.img_to_array(image.load_img(pascal_data['jpg_path'][i]))\n",
    "label = scipy.io.loadmat(pascal_data['mat_path'][i])['single_map']\n",
    "cut1,cut2,cut3 = random_put_into_256map(img,label)\n",
    "test_img = cut3[:,:,0:3]\n",
    "plt.figure()\n",
    "plt.imshow(test_img/255)\n",
    "plt.show()\n",
    "input_img = np.expand_dims(test_img,axis=0)"
   ]
  },
  {
   "cell_type": "markdown",
   "metadata": {},
   "source": [
    "## Sitting"
   ]
  },
  {
   "cell_type": "code",
   "execution_count": 56,
   "metadata": {},
   "outputs": [],
   "source": [
    "sitting_data = pd.read_csv('sitting_data_table.csv')\n",
    "sitting_data.head()\n",
    "i = 120\n",
    "img = image.img_to_array(image.load_img(sitting_data['data_addr'][i]))\n",
    "label = scipy.io.loadmat(sitting_data['label_addr'][i])['M']\n",
    "cut1,cut2,cut3 = random_put_into_256map(img,label)\n",
    "test_img = cut3[:,:,0:3]\n",
    "plt.figure()\n",
    "plt.imshow(test_img/255)\n",
    "plt.show()\n",
    "input_img = np.expand_dims(test_img,axis=0)"
   ]
  },
  {
   "cell_type": "markdown",
   "metadata": {},
   "source": [
    "# 2.Prediction"
   ]
  },
  {
   "cell_type": "code",
   "execution_count": 57,
   "metadata": {},
   "outputs": [],
   "source": [
    "with g.as_default():\n",
    "    pre = sess.run(pred_seg,feed_dict={model.img:input_img})\n",
    "    outp = sess.run(out,feed_dict={model.img:input_img})"
   ]
  },
  {
   "cell_type": "code",
   "execution_count": 58,
   "metadata": {},
   "outputs": [],
   "source": [
    "plt.figure()\n",
    "plt.title('prediction')\n",
    "plt.imshow(pre)\n",
    "plt.show()"
   ]
  },
  {
   "cell_type": "code",
   "execution_count": 72,
   "metadata": {},
   "outputs": [],
   "source": [
    "plt.figure()\n",
    "plt.title('torso_activition')\n",
    "plt.imshow(outp[:,:,2])\n",
    "plt.show()"
   ]
  },
  {
   "cell_type": "markdown",
   "metadata": {},
   "source": [
    "## 3.Guided Backpropagation"
   ]
  },
  {
   "cell_type": "code",
   "execution_count": 60,
   "metadata": {},
   "outputs": [],
   "source": [
    "pre_mask = pre\n",
    "map = np.zeros([64,64,15])\n",
    "for i in range(15):\n",
    "    for n in range(64):\n",
    "        for m in range(64):\n",
    "            if pre_mask[n][m] == i:\n",
    "                map[n,m,i] = 1.0  "
   ]
  },
  {
   "cell_type": "code",
   "execution_count": 69,
   "metadata": {},
   "outputs": [],
   "source": [
    "with g.as_default():\n",
    "    np_mask = np.zeros([64,64,15],dtype='float32')\n",
    "    #wrong_mask = np.zeros([64,64,15],dtype='float32')\n",
    "    np_mask[:,:,2] = map[:,:,2]\n",
    "    #wrong_mask[:,:,1] = 1\n",
    "    mask = tf.constant(np_mask)\n",
    "    #wrong_mask_t = tf.constant(wrong_mask)\n",
    "    back_ground = out*mask\n",
    "    #wrong_bg = out*wrong_mask_t\n",
    "    gbp_back_ground = tf.gradients(back_ground,inpt)\n",
    "    #wrong_back_ground = tf.gradients(wrong_bg,inpt)"
   ]
  },
  {
   "cell_type": "code",
   "execution_count": 70,
   "metadata": {},
   "outputs": [],
   "source": [
    "with g.as_default():\n",
    "    head = sess.run(gbp_back_ground,feed_dict={model.img:input_img})\n",
    "    #wrong_head = sess.run(wrong_back_ground,feed_dict={model.img:input_img})\n",
    "    supvision = sess.run(back_ground,feed_dict={model.img:input_img})"
   ]
  },
  {
   "cell_type": "code",
   "execution_count": 71,
   "metadata": {},
   "outputs": [],
   "source": [
    "plt.figure()\n",
    "plt.title('masked_torso_act')\n",
    "plt.imshow(supvision[:,:,2])\n",
    "plt.show()"
   ]
  },
  {
   "cell_type": "code",
   "execution_count": 73,
   "metadata": {},
   "outputs": [],
   "source": [
    "gradient_abs = np.abs(head[0][0]).max(axis=-1)\n",
    "plt.figure()\n",
    "plt.title('head_abs')\n",
    "plt.imshow(gradient_abs)\n",
    "plt.show()"
   ]
  },
  {
   "cell_type": "code",
   "execution_count": 74,
   "metadata": {},
   "outputs": [],
   "source": [
    "pos_gradient = (np.maximum(0, head[0][0]) / head[0][0].max())\n",
    "#pos_gradient = pos_gradient*2/pos_gradient.max()\n",
    "plt.figure()\n",
    "plt.title('head_positive')\n",
    "plt.imshow(pos_gradient)\n",
    "plt.show()"
   ]
  },
  {
   "cell_type": "code",
   "execution_count": 75,
   "metadata": {},
   "outputs": [],
   "source": [
    "neg_gradient = (np.maximum(0, -head[0][0]) / -head[0][0].min())\n",
    "#neg_gradient = neg_gradient*2/neg_gradient.max()\n",
    "plt.figure()\n",
    "plt.title('head_negative')\n",
    "plt.imshow(neg_gradient)\n",
    "plt.show()"
   ]
  },
  {
   "cell_type": "code",
   "execution_count": 43,
   "metadata": {},
   "outputs": [],
   "source": [
    "gradient_abs = np.abs(wrong_head[0][0]).max(axis=-1)\n",
    "plt.figure()\n",
    "plt.title('abs_wrong')\n",
    "plt.imshow(gradient_abs)\n",
    "plt.show()\n",
    "pos_gradient = (np.maximum(0, wrong_head[0][0]) / wrong_head[0][0].max())\n",
    "#pos_gradient = pos_gradient*2/pos_gradient.max()\n",
    "plt.figure()\n",
    "plt.title('positive_wrong')\n",
    "plt.imshow(pos_gradient)\n",
    "plt.show()\n",
    "neg_gradient = (np.maximum(0, -wrong_head[0][0]) / -wrong_head[0][0].min())\n",
    "#neg_gradient = neg_gradient*2/neg_gradient.max()\n",
    "plt.figure()\n",
    "plt.title('negative_wrong')\n",
    "plt.imshow(neg_gradient)\n",
    "plt.show()"
   ]
  },
  {
   "cell_type": "code",
   "execution_count": null,
   "metadata": {},
   "outputs": [],
   "source": [
    ""
   ]
  },
  {
   "cell_type": "code",
   "execution_count": null,
   "metadata": {},
   "outputs": [],
   "source": []
  }
 ],
 "metadata": {
  "kernelspec": {
   "display_name": "Python 2",
   "language": "python",
   "name": "python2"
  },
  "language_info": {
   "codemirror_mode": {
    "name": "ipython",
    "version": 2
   },
   "file_extension": ".py",
   "mimetype": "text/x-python",
   "name": "python",
   "nbconvert_exporter": "python",
   "pygments_lexer": "ipython2",
   "version": "2.7.6"
  }
 },
 "nbformat": 4,
 "nbformat_minor": 0
}
