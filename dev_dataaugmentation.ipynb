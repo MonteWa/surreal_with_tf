{
 "cells": [
  {
   "cell_type": "code",
   "execution_count": 1,
   "metadata": {
    "collapsed": true
   },
   "outputs": [
    {
     "name": "stderr",
     "output_type": "stream",
     "text": [
      "C:\\Users\\44163\\AppData\\Local\\Programs\\Python\\Python36\\lib\\site-packages\\h5py\\__init__.py:36: FutureWarning: Conversion of the second argument of issubdtype from `float` to `np.floating` is deprecated. In future, it will be treated as `np.float64 == np.dtype(float).type`.\n  from ._conv import register_converters as _register_converters\n"
     ]
    },
    {
     "name": "stderr",
     "output_type": "stream",
     "text": [
      "Using TensorFlow backend.\n"
     ]
    }
   ],
   "source": [
    "import tensorflow as tf\n",
    "import numpy as np\n",
    "from hourglass_tiny import HourglassModel\n",
    "import configparser\n",
    "import os\n",
    "import pandas as pd\n",
    "from keras.preprocessing import image\n",
    "import scipy.io\n",
    "from scipy.misc import imresize\n",
    "import matplotlib.pyplot as plt\n",
    "from skimage import transform\n",
    "import scipy.ndimage.interpolation\n",
    "import random"
   ]
  },
  {
   "cell_type": "code",
   "execution_count": 2,
   "metadata": {},
   "outputs": [
    {
     "name": "stderr",
     "output_type": "stream",
     "text": [
      "C:\\Users\\44163\\AppData\\Local\\Programs\\Python\\Python36\\lib\\site-packages\\ipykernel_launcher.py:6: DeprecationWarning: `imresize` is deprecated!\n`imresize` is deprecated in SciPy 1.0.0, and will be removed in 1.2.0.\nUse ``skimage.transform.resize`` instead.\n  \n"
     ]
    }
   ],
   "source": [
    "# load image and mask\n",
    "test_img = image.load_img('Sitting/img/image0.jpg',target_size=[256,256])\n",
    "test_img_arr = image.img_to_array(test_img)\n",
    "test_label = scipy.io.loadmat('Sitting/masks/image0.mat')\n",
    "test_label = test_label['M']\n",
    "test_label = imresize(test_label,[256,256],interp='nearest')\n",
    "label_resize = test_label.astype('float32')\n",
    "label_floor = np.floor(label_resize/18)\n",
    "\n",
    "plt.figure()\n",
    "plt.imshow(test_img)\n",
    "plt.show()\n",
    "plt.figure()\n",
    "plt.imshow(label_floor)\n",
    "plt.show()"
   ]
  },
  {
   "cell_type": "code",
   "execution_count": 3,
   "metadata": {},
   "outputs": [],
   "source": [
    "temp = np.zeros([256,256,4])\n",
    "temp[:,:,0:3] = test_img_arr\n",
    "temp[:,:,3]= label_floor"
   ]
  },
  {
   "cell_type": "code",
   "execution_count": 7,
   "metadata": {},
   "outputs": [],
   "source": [
    "try_im = image.random_rotation(temp,rg=45,row_axis=0,col_axis=1,channel_axis=2)"
   ]
  },
  {
   "cell_type": "code",
   "execution_count": 8,
   "metadata": {},
   "outputs": [],
   "source": [
    "plt.figure()\n",
    "plt.imshow(try_im[:,:,0:3]/256)\n",
    "plt.show()\n",
    "new_mask2 = try_im[:,:,3]\n",
    "new_mask2_ar = np.around(new_mask2)\n",
    "plt.figure()\n",
    "plt.imshow(new_mask2)\n",
    "plt.show()"
   ]
  },
  {
   "cell_type": "code",
   "execution_count": null,
   "metadata": {},
   "outputs": [],
   "source": [
    "def augmentor_with_keras:"
   ]
  },
  {
   "cell_type": "code",
   "execution_count": 49,
   "metadata": {},
   "outputs": [],
   "source": [
    "def augmentor(image_asarray,mask):\n",
    "    # do data augmentation for image and mask at the same time(random rotations, scaling, \n",
    "    # and color jittering)\n",
    "    temp = np.zeros([256,256,4])\n",
    "    temp[:,:,0:3] = image_asarray\n",
    "    temp[:,:,3]= mask\n",
    "    rd_angele = random.randint(-20,20)\n",
    "    new_rote_im = transform.rotate(temp,angle = rd_angele,resize=True)\n",
    "    #new_rote_ma = transform.rotate(image_asarray,angle = rd_angele,resize=True)\n",
    "    rd_scale = random.uniform(0.6,1.6)\n",
    "    new_rescale_im = transform.rescale(new_rote_im,scale=rd_scale,mode='constant')\n",
    "    #new_rescale_ma = transform.rescale(new_rote_ma,scale=rd_scale,mode='constant')\n",
    "    if new_rescale_im.shape[0]>256:\n",
    "    # random crop\n",
    "        temp = temp = np.zeros([256,256,4])\n",
    "        center_m = [new_rescale_im.shape[0]/2,new_rescale_im.shape[0]/2]\n",
    "        x = center_m[0]+random.randint(-50,50)\n",
    "        y = center_m[1]+random.randint(-50,50)\n",
    "        temp = new_rescale_im[int(x-128):int(x+128),int(y-128):int(y+128),:]\n",
    "        aug_res = temp\n",
    "    else:\n",
    "        temp = np.zeros([256,256,4])\n",
    "        length = new_rescale_im.shape[0]\n",
    "        jrange = 256-length\n",
    "        rd_startx = random.randint(0,jrange)\n",
    "        rd_starty = random.randint(0,jrange)\n",
    "        temp[rd_startx:rd_startx+length,rd_starty:rd_starty+length,:] = new_rescale_im\n",
    "        aug_res = temp\n",
    "    return aug_res"
   ]
  },
  {
   "cell_type": "code",
   "execution_count": 50,
   "metadata": {},
   "outputs": [],
   "source": [
    "aug_res = augmentor(test_img_arr,label_floor)\n",
    "plt.figure()\n",
    "plt.imshow(aug_res[:,:,0:3]/256)\n",
    "plt.show()\n",
    "new_mask2 = aug_res[:,:,3]\n",
    "new_mask2_ar = np.around(new_mask2)\n",
    "plt.figure()\n",
    "plt.imshow(new_mask2)\n",
    "plt.show()"
   ]
  },
  {
   "cell_type": "code",
   "execution_count": 54,
   "metadata": {},
   "outputs": [],
   "source": [
    "part = np.zeros([256,256])\n",
    "for i in range(0,256):\n",
    "    for j in range(0,256):\n",
    "        if new_mask2[i,j] == 2:\n",
    "            part[i,j] = 1\n",
    "plt.figure()\n",
    "plt.imshow(part)\n",
    "plt.show()"
   ]
  },
  {
   "cell_type": "code",
   "execution_count": 63,
   "metadata": {},
   "outputs": [],
   "source": [
    "new_mask3 = transform.rescale(new_mask2,scale=0.25,mode='constant')"
   ]
  },
  {
   "cell_type": "code",
   "execution_count": 64,
   "metadata": {},
   "outputs": [],
   "source": [
    "plt.figure()\n",
    "plt.imshow(new_mask3)\n",
    "plt.show()"
   ]
  },
  {
   "cell_type": "code",
   "execution_count": 69,
   "metadata": {},
   "outputs": [],
   "source": [
    "part = np.zeros([64,64])\n",
    "for i in range(0,64):\n",
    "    for j in range(0,64):\n",
    "        if new_mask3[i,j] == 12:\n",
    "            part[i,j] = 1\n",
    "plt.figure()\n",
    "plt.imshow(part)\n",
    "plt.show()"
   ]
  },
  {
   "cell_type": "code",
   "execution_count": 73,
   "metadata": {},
   "outputs": [
    {
     "name": "stdout",
     "output_type": "stream",
     "text": [
      "acc: 0.1    iou: 0.1\n"
     ]
    }
   ],
   "source": [
    "a = 0.1\n",
    "print('acc:',a,'  ','iou:',a)"
   ]
  },
  {
   "cell_type": "code",
   "execution_count": null,
   "metadata": {},
   "outputs": [],
   "source": []
  }
 ],
 "metadata": {
  "kernelspec": {
   "display_name": "Python 2",
   "language": "python",
   "name": "python2"
  },
  "language_info": {
   "codemirror_mode": {
    "name": "ipython",
    "version": 2
   },
   "file_extension": ".py",
   "mimetype": "text/x-python",
   "name": "python",
   "nbconvert_exporter": "python",
   "pygments_lexer": "ipython2",
   "version": "2.7.6"
  }
 },
 "nbformat": 4,
 "nbformat_minor": 0
}
