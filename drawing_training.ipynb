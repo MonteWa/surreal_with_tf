{
 "cells": [
  {
   "cell_type": "code",
   "execution_count": 25,
   "metadata": {
    "collapsed": true
   },
   "outputs": [],
   "source": [
    "import matplotlib.pyplot as plt\n",
    "import pandas as pd\n",
    "import numpy as np"
   ]
  },
  {
   "cell_type": "code",
   "execution_count": 26,
   "metadata": {},
   "outputs": [
    {
     "data": {
      "text/html": [
       "<div>\n",
       "<style scoped>\n",
       "    .dataframe tbody tr th:only-of-type {\n",
       "        vertical-align: middle;\n",
       "    }\n",
       "\n",
       "    .dataframe tbody tr th {\n",
       "        vertical-align: top;\n",
       "    }\n",
       "\n",
       "    .dataframe thead th {\n",
       "        text-align: right;\n",
       "    }\n",
       "</style>\n",
       "<table border=\"1\" class=\"dataframe\">\n",
       "  <thead>\n",
       "    <tr style=\"text-align: right;\">\n",
       "      <th></th>\n",
       "      <th>Unnamed: 0</th>\n",
       "      <th>iter</th>\n",
       "      <th>train_accracy</th>\n",
       "      <th>train_iou</th>\n",
       "      <th>test_accracy</th>\n",
       "      <th>test_iou</th>\n",
       "      <th>loss</th>\n",
       "    </tr>\n",
       "  </thead>\n",
       "  <tbody>\n",
       "    <tr>\n",
       "      <th>0</th>\n",
       "      <td>0</td>\n",
       "      <td>0</td>\n",
       "      <td>0.000000</td>\n",
       "      <td>0.082483</td>\n",
       "      <td>0.000000</td>\n",
       "      <td>0.051579</td>\n",
       "      <td>486274.968750</td>\n",
       "    </tr>\n",
       "    <tr>\n",
       "      <th>1</th>\n",
       "      <td>1</td>\n",
       "      <td>50</td>\n",
       "      <td>0.023534</td>\n",
       "      <td>0.063637</td>\n",
       "      <td>0.186350</td>\n",
       "      <td>0.262103</td>\n",
       "      <td>154676.828125</td>\n",
       "    </tr>\n",
       "    <tr>\n",
       "      <th>2</th>\n",
       "      <td>2</td>\n",
       "      <td>100</td>\n",
       "      <td>0.000000</td>\n",
       "      <td>0.070781</td>\n",
       "      <td>0.000045</td>\n",
       "      <td>0.040185</td>\n",
       "      <td>216734.718750</td>\n",
       "    </tr>\n",
       "    <tr>\n",
       "      <th>3</th>\n",
       "      <td>3</td>\n",
       "      <td>150</td>\n",
       "      <td>0.004813</td>\n",
       "      <td>0.048329</td>\n",
       "      <td>0.039617</td>\n",
       "      <td>0.080561</td>\n",
       "      <td>299537.031250</td>\n",
       "    </tr>\n",
       "    <tr>\n",
       "      <th>4</th>\n",
       "      <td>4</td>\n",
       "      <td>200</td>\n",
       "      <td>0.000000</td>\n",
       "      <td>0.249607</td>\n",
       "      <td>0.000000</td>\n",
       "      <td>0.094928</td>\n",
       "      <td>347470.968750</td>\n",
       "    </tr>\n",
       "  </tbody>\n",
       "</table>\n",
       "</div>"
      ],
      "text/plain": [
       "<div>\n",
       "<style scoped>\n",
       "    .dataframe tbody tr th:only-of-type {\n",
       "        vertical-align: middle;\n",
       "    }\n",
       "\n",
       "    .dataframe tbody tr th {\n",
       "        vertical-align: top;\n",
       "    }\n",
       "\n",
       "    .dataframe thead th {\n",
       "        text-align: right;\n",
       "    }\n",
       "</style>\n",
       "<table border=\"1\" class=\"dataframe\">\n",
       "  <thead>\n",
       "    <tr style=\"text-align: right;\">\n",
       "      <th></th>\n",
       "      <th>Unnamed: 0</th>\n",
       "      <th>iter</th>\n",
       "      <th>train_accracy</th>\n",
       "      <th>train_iou</th>\n",
       "      <th>test_accracy</th>\n",
       "      <th>test_iou</th>\n",
       "      <th>loss</th>\n",
       "    </tr>\n",
       "  </thead>\n",
       "  <tbody>\n",
       "    <tr>\n",
       "      <th>0</th>\n",
       "      <td>0</td>\n",
       "      <td>0</td>\n",
       "      <td>0.000000</td>\n",
       "      <td>0.082483</td>\n",
       "      <td>0.000000</td>\n",
       "      <td>0.051579</td>\n",
       "      <td>486274.968750</td>\n",
       "    </tr>\n",
       "    <tr>\n",
       "      <th>1</th>\n",
       "      <td>1</td>\n",
       "      <td>50</td>\n",
       "      <td>0.023534</td>\n",
       "      <td>0.063637</td>\n",
       "      <td>0.186350</td>\n",
       "      <td>0.262103</td>\n",
       "      <td>154676.828125</td>\n",
       "    </tr>\n",
       "    <tr>\n",
       "      <th>2</th>\n",
       "      <td>2</td>\n",
       "      <td>100</td>\n",
       "      <td>0.000000</td>\n",
       "      <td>0.070781</td>\n",
       "      <td>0.000045</td>\n",
       "      <td>0.040185</td>\n",
       "      <td>216734.718750</td>\n",
       "    </tr>\n",
       "    <tr>\n",
       "      <th>3</th>\n",
       "      <td>3</td>\n",
       "      <td>150</td>\n",
       "      <td>0.004813</td>\n",
       "      <td>0.048329</td>\n",
       "      <td>0.039617</td>\n",
       "      <td>0.080561</td>\n",
       "      <td>299537.031250</td>\n",
       "    </tr>\n",
       "    <tr>\n",
       "      <th>4</th>\n",
       "      <td>4</td>\n",
       "      <td>200</td>\n",
       "      <td>0.000000</td>\n",
       "      <td>0.249607</td>\n",
       "      <td>0.000000</td>\n",
       "      <td>0.094928</td>\n",
       "      <td>347470.968750</td>\n",
       "    </tr>\n",
       "  </tbody>\n",
       "</table>\n",
       "</div>"
      ]
     },
     "execution_count": 26,
     "metadata": {},
     "output_type": "execute_result"
    }
   ],
   "source": [
    "inform = pd.read_csv('training_info_with_pascal_Mar_27_upsampling.csv')\n",
    "inform.head()"
   ]
  },
  {
   "cell_type": "code",
   "execution_count": 27,
   "metadata": {},
   "outputs": [
    {
     "data": {
      "text/html": [
       "<div>\n",
       "<style scoped>\n",
       "    .dataframe tbody tr th:only-of-type {\n",
       "        vertical-align: middle;\n",
       "    }\n",
       "\n",
       "    .dataframe tbody tr th {\n",
       "        vertical-align: top;\n",
       "    }\n",
       "\n",
       "    .dataframe thead th {\n",
       "        text-align: right;\n",
       "    }\n",
       "</style>\n",
       "<table border=\"1\" class=\"dataframe\">\n",
       "  <thead>\n",
       "    <tr style=\"text-align: right;\">\n",
       "      <th></th>\n",
       "      <th>Unnamed: 0</th>\n",
       "      <th>iter</th>\n",
       "      <th>train_accracy</th>\n",
       "      <th>train_iou</th>\n",
       "      <th>test_accracy</th>\n",
       "      <th>test_iou</th>\n",
       "      <th>loss</th>\n",
       "    </tr>\n",
       "  </thead>\n",
       "  <tbody>\n",
       "    <tr>\n",
       "      <th>0</th>\n",
       "      <td>0</td>\n",
       "      <td>5000</td>\n",
       "      <td>0.446277</td>\n",
       "      <td>0.235579</td>\n",
       "      <td>0.220311</td>\n",
       "      <td>0.111435</td>\n",
       "      <td>152662.937500</td>\n",
       "    </tr>\n",
       "    <tr>\n",
       "      <th>1</th>\n",
       "      <td>1</td>\n",
       "      <td>5050</td>\n",
       "      <td>0.000000</td>\n",
       "      <td>0.088386</td>\n",
       "      <td>0.196003</td>\n",
       "      <td>0.187954</td>\n",
       "      <td>214230.000000</td>\n",
       "    </tr>\n",
       "    <tr>\n",
       "      <th>2</th>\n",
       "      <td>2</td>\n",
       "      <td>5100</td>\n",
       "      <td>0.371048</td>\n",
       "      <td>0.187366</td>\n",
       "      <td>0.110915</td>\n",
       "      <td>0.071549</td>\n",
       "      <td>432801.437500</td>\n",
       "    </tr>\n",
       "    <tr>\n",
       "      <th>3</th>\n",
       "      <td>3</td>\n",
       "      <td>5150</td>\n",
       "      <td>0.540049</td>\n",
       "      <td>0.263006</td>\n",
       "      <td>0.000000</td>\n",
       "      <td>0.137966</td>\n",
       "      <td>131455.328125</td>\n",
       "    </tr>\n",
       "    <tr>\n",
       "      <th>4</th>\n",
       "      <td>4</td>\n",
       "      <td>5200</td>\n",
       "      <td>0.000000</td>\n",
       "      <td>0.065480</td>\n",
       "      <td>0.182854</td>\n",
       "      <td>0.147779</td>\n",
       "      <td>133831.296875</td>\n",
       "    </tr>\n",
       "  </tbody>\n",
       "</table>\n",
       "</div>"
      ],
      "text/plain": [
       "<div>\n",
       "<style scoped>\n",
       "    .dataframe tbody tr th:only-of-type {\n",
       "        vertical-align: middle;\n",
       "    }\n",
       "\n",
       "    .dataframe tbody tr th {\n",
       "        vertical-align: top;\n",
       "    }\n",
       "\n",
       "    .dataframe thead th {\n",
       "        text-align: right;\n",
       "    }\n",
       "</style>\n",
       "<table border=\"1\" class=\"dataframe\">\n",
       "  <thead>\n",
       "    <tr style=\"text-align: right;\">\n",
       "      <th></th>\n",
       "      <th>Unnamed: 0</th>\n",
       "      <th>iter</th>\n",
       "      <th>train_accracy</th>\n",
       "      <th>train_iou</th>\n",
       "      <th>test_accracy</th>\n",
       "      <th>test_iou</th>\n",
       "      <th>loss</th>\n",
       "    </tr>\n",
       "  </thead>\n",
       "  <tbody>\n",
       "    <tr>\n",
       "      <th>0</th>\n",
       "      <td>0</td>\n",
       "      <td>5000</td>\n",
       "      <td>0.446277</td>\n",
       "      <td>0.235579</td>\n",
       "      <td>0.220311</td>\n",
       "      <td>0.111435</td>\n",
       "      <td>152662.937500</td>\n",
       "    </tr>\n",
       "    <tr>\n",
       "      <th>1</th>\n",
       "      <td>1</td>\n",
       "      <td>5050</td>\n",
       "      <td>0.000000</td>\n",
       "      <td>0.088386</td>\n",
       "      <td>0.196003</td>\n",
       "      <td>0.187954</td>\n",
       "      <td>214230.000000</td>\n",
       "    </tr>\n",
       "    <tr>\n",
       "      <th>2</th>\n",
       "      <td>2</td>\n",
       "      <td>5100</td>\n",
       "      <td>0.371048</td>\n",
       "      <td>0.187366</td>\n",
       "      <td>0.110915</td>\n",
       "      <td>0.071549</td>\n",
       "      <td>432801.437500</td>\n",
       "    </tr>\n",
       "    <tr>\n",
       "      <th>3</th>\n",
       "      <td>3</td>\n",
       "      <td>5150</td>\n",
       "      <td>0.540049</td>\n",
       "      <td>0.263006</td>\n",
       "      <td>0.000000</td>\n",
       "      <td>0.137966</td>\n",
       "      <td>131455.328125</td>\n",
       "    </tr>\n",
       "    <tr>\n",
       "      <th>4</th>\n",
       "      <td>4</td>\n",
       "      <td>5200</td>\n",
       "      <td>0.000000</td>\n",
       "      <td>0.065480</td>\n",
       "      <td>0.182854</td>\n",
       "      <td>0.147779</td>\n",
       "      <td>133831.296875</td>\n",
       "    </tr>\n",
       "  </tbody>\n",
       "</table>\n",
       "</div>"
      ]
     },
     "execution_count": 27,
     "metadata": {},
     "output_type": "execute_result"
    }
   ],
   "source": [
    "inform2 = pd.read_csv('training_info_with_pascal_Mar_27_upsampling_2.csv')\n",
    "inform2.head()"
   ]
  },
  {
   "cell_type": "code",
   "execution_count": 28,
   "metadata": {},
   "outputs": [
    {
     "data": {
      "text/plain": [
       "101"
      ]
     },
     "execution_count": 28,
     "metadata": {},
     "output_type": "execute_result"
    }
   ],
   "source": [
    "len(inform2)"
   ]
  },
  {
   "cell_type": "code",
   "execution_count": 29,
   "metadata": {},
   "outputs": [],
   "source": [
    "iter2 = inform2['iter'].tolist()\n",
    "train_acc2 = inform2['train_accracy'].tolist()\n",
    "train_iou2 = inform2['train_iou'].tolist()\n",
    "test_acc2 = inform2['test_accracy'].tolist()\n",
    "test_iou2 = inform2['test_iou'].tolist()\n",
    "loss2 = inform2['loss'].tolist()"
   ]
  },
  {
   "cell_type": "code",
   "execution_count": 30,
   "metadata": {},
   "outputs": [],
   "source": [
    "iter = inform['iter'].tolist()\n",
    "train_acc = inform['train_accracy'].tolist()\n",
    "train_iou = inform['train_iou'].tolist()\n",
    "test_acc = inform['test_accracy'].tolist()\n",
    "test_iou = inform['test_iou'].tolist()\n",
    "loss = inform['loss'].tolist()"
   ]
  },
  {
   "cell_type": "code",
   "execution_count": 31,
   "metadata": {},
   "outputs": [
    {
     "data": {
      "text/plain": [
       "101"
      ]
     },
     "execution_count": 31,
     "metadata": {},
     "output_type": "execute_result"
    }
   ],
   "source": [
    "len(iter2)"
   ]
  },
  {
   "cell_type": "code",
   "execution_count": 32,
   "metadata": {
    "collapsed": true
   },
   "outputs": [],
   "source": [
    "iter.extend(iter2)\n",
    "train_acc.extend(train_acc2)\n",
    "train_iou.extend(train_iou2)\n",
    "test_acc.extend(test_acc2)\n",
    "test_iou.extend(test_iou2)\n",
    "loss.extend(loss2)"
   ]
  },
  {
   "cell_type": "code",
   "execution_count": 33,
   "metadata": {},
   "outputs": [
    {
     "data": {
      "text/plain": [
       "201"
      ]
     },
     "execution_count": 33,
     "metadata": {},
     "output_type": "execute_result"
    }
   ],
   "source": [
    "len(loss)"
   ]
  },
  {
   "cell_type": "code",
   "execution_count": 34,
   "metadata": {
    "collapsed": true
   },
   "outputs": [],
   "source": [
    "temp_x1 = []\n",
    "temp_y1 = []\n",
    "temp_x1.append(loss[0])\n",
    "temp_y1.append(0)\n",
    "for i in range(0,int(len(loss)/5)):\n",
    "    temp_x1.append(np.mean(loss[5*i+1:5*i+6]))\n",
    "    temp_y1.append((i+3)*500)"
   ]
  },
  {
   "cell_type": "code",
   "execution_count": 35,
   "metadata": {},
   "outputs": [],
   "source": [
    "plt.figure()\n",
    "plt.plot(temp_y1,temp_x1)\n",
    "plt.yscale('log')\n",
    "plt.title('loss')\n",
    "plt.show()"
   ]
  },
  {
   "cell_type": "code",
   "execution_count": 36,
   "metadata": {},
   "outputs": [],
   "source": [
    "# 去掉acc表中的nan\n",
    "for i in range(len(train_acc)):\n",
    "    if train_acc[i] != train_acc[i]:\n",
    "        train_acc[i] = 0\n",
    "# 每五个点取平均\n",
    "temp_x1 = []\n",
    "temp_y1 = []\n",
    "temp_x1.append(train_acc[0])\n",
    "temp_y1.append(0)\n",
    "for i in range(0,int(len(train_acc)/5)):\n",
    "    temp_x1.append(np.mean(train_acc[5*i+1:5*i+6]))\n",
    "    temp_y1.append((i+3)*500)\n",
    "\n",
    "# 去掉acc表中的nan\n",
    "for i in range(len(test_acc)):\n",
    "    if test_acc[i] != test_acc[i]:\n",
    "        test_acc[i] = 0\n",
    "# 每五个点取平均\n",
    "temp_x2 = []\n",
    "temp_y2 = []\n",
    "temp_x2.append(test_acc[0])\n",
    "temp_y2.append(0)\n",
    "for i in range(0,int(len(test_acc)/5)):\n",
    "    temp_x2.append(np.mean(test_acc[5*i+1:5*i+6]))\n",
    "    temp_y2.append((i+3)*500)"
   ]
  },
  {
   "cell_type": "code",
   "execution_count": 37,
   "metadata": {},
   "outputs": [],
   "source": [
    "plt.figure()\n",
    "plt.plot(temp_y1,temp_x1,'r')\n",
    "plt.plot(temp_y2,temp_x2,'b')\n",
    "plt.title('pascal accracy, red - train, blue - test')\n",
    "plt.show()"
   ]
  },
  {
   "cell_type": "code",
   "execution_count": 38,
   "metadata": {},
   "outputs": [],
   "source": [
    "# 取5个点平均作图\n",
    "temp_x1 = []\n",
    "temp_y1 = []\n",
    "temp_x1.append(train_iou[0])\n",
    "temp_y1.append(0)\n",
    "for i in range(0,int(len(train_iou)/5)):\n",
    "    temp_x1.append(np.mean(train_iou[5*i+1:5*i+6]))\n",
    "    temp_y1.append((i+3)*500)\n",
    "# 取5个点平均作图\n",
    "temp_x2 = []\n",
    "temp_y2 = []\n",
    "temp_x2.append(test_iou[0])\n",
    "temp_y2.append(0)\n",
    "for i in range(0,int(len(test_iou)/5)):\n",
    "    temp_x2.append(np.mean(test_iou[5*i+1:5*i+6]))\n",
    "    temp_y2.append((i+3)*500)"
   ]
  },
  {
   "cell_type": "code",
   "execution_count": 39,
   "metadata": {},
   "outputs": [],
   "source": [
    "plt.figure()\n",
    "plt.plot(temp_y1,temp_x1,'r')\n",
    "plt.plot(temp_y2,temp_x2,'b')\n",
    "plt.title('pascal iou, red - train, blue - test')\n",
    "plt.show()"
   ]
  },
  {
   "cell_type": "code",
   "execution_count": null,
   "metadata": {},
   "outputs": [],
   "source": [
    ""
   ]
  }
 ],
 "metadata": {
  "kernelspec": {
   "display_name": "Python 2",
   "language": "python",
   "name": "python2"
  },
  "language_info": {
   "codemirror_mode": {
    "name": "ipython",
    "version": 2
   },
   "file_extension": ".py",
   "mimetype": "text/x-python",
   "name": "python",
   "nbconvert_exporter": "python",
   "pygments_lexer": "ipython2",
   "version": "2.7.6"
  }
 },
 "nbformat": 4,
 "nbformat_minor": 0
}
