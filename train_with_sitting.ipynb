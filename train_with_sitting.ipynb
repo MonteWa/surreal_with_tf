{
 "cells": [
  {
   "cell_type": "code",
   "execution_count": 1,
   "metadata": {
    "collapsed": true
   },
   "outputs": [
    {
     "name": "stderr",
     "output_type": "stream",
     "text": [
      "C:\\Users\\44163\\AppData\\Local\\Programs\\Python\\Python36\\lib\\site-packages\\h5py\\__init__.py:36: FutureWarning: Conversion of the second argument of issubdtype from `float` to `np.floating` is deprecated. In future, it will be treated as `np.float64 == np.dtype(float).type`.\n  from ._conv import register_converters as _register_converters\n"
     ]
    },
    {
     "name": "stderr",
     "output_type": "stream",
     "text": [
      "Using TensorFlow backend.\n"
     ]
    }
   ],
   "source": [
    "import tensorflow as tf\n",
    "import numpy as np\n",
    "from hourglass_tiny import HourglassModel\n",
    "import configparser\n",
    "import os\n",
    "import pandas as pd\n",
    "from keras.preprocessing import image\n",
    "import scipy.io\n",
    "from scipy.misc import imresize\n",
    "import matplotlib.pyplot as plt\n",
    "from skimage import transform\n",
    "import math\n",
    "from tqdm import tqdm"
   ]
  },
  {
   "cell_type": "markdown",
   "metadata": {},
   "source": [
    "## process the data"
   ]
  },
  {
   "cell_type": "code",
   "execution_count": 2,
   "metadata": {},
   "outputs": [
    {
     "data": {
      "text/html": [
       "<div>\n",
       "<style scoped>\n",
       "    .dataframe tbody tr th:only-of-type {\n",
       "        vertical-align: middle;\n",
       "    }\n",
       "\n",
       "    .dataframe tbody tr th {\n",
       "        vertical-align: top;\n",
       "    }\n",
       "\n",
       "    .dataframe thead th {\n",
       "        text-align: right;\n",
       "    }\n",
       "</style>\n",
       "<table border=\"1\" class=\"dataframe\">\n",
       "  <thead>\n",
       "    <tr style=\"text-align: right;\">\n",
       "      <th></th>\n",
       "      <th>data_name</th>\n",
       "      <th>label_name</th>\n",
       "      <th>data_addr</th>\n",
       "      <th>label_addr</th>\n",
       "    </tr>\n",
       "  </thead>\n",
       "  <tbody>\n",
       "    <tr>\n",
       "      <th>0</th>\n",
       "      <td>image0.jpg</td>\n",
       "      <td>image0.mat</td>\n",
       "      <td>Sitting/img\\image0.jpg</td>\n",
       "      <td>Sitting/masks\\image0.mat</td>\n",
       "    </tr>\n",
       "    <tr>\n",
       "      <th>1</th>\n",
       "      <td>image1.jpg</td>\n",
       "      <td>image1.mat</td>\n",
       "      <td>Sitting/img\\image1.jpg</td>\n",
       "      <td>Sitting/masks\\image1.mat</td>\n",
       "    </tr>\n",
       "    <tr>\n",
       "      <th>2</th>\n",
       "      <td>image10.jpg</td>\n",
       "      <td>image10.mat</td>\n",
       "      <td>Sitting/img\\image10.jpg</td>\n",
       "      <td>Sitting/masks\\image10.mat</td>\n",
       "    </tr>\n",
       "    <tr>\n",
       "      <th>3</th>\n",
       "      <td>image100.jpg</td>\n",
       "      <td>image100.mat</td>\n",
       "      <td>Sitting/img\\image100.jpg</td>\n",
       "      <td>Sitting/masks\\image100.mat</td>\n",
       "    </tr>\n",
       "    <tr>\n",
       "      <th>4</th>\n",
       "      <td>image101.jpg</td>\n",
       "      <td>image101.mat</td>\n",
       "      <td>Sitting/img\\image101.jpg</td>\n",
       "      <td>Sitting/masks\\image101.mat</td>\n",
       "    </tr>\n",
       "  </tbody>\n",
       "</table>\n",
       "</div>"
      ],
      "text/plain": [
       "<div>\n",
       "<style scoped>\n",
       "    .dataframe tbody tr th:only-of-type {\n",
       "        vertical-align: middle;\n",
       "    }\n",
       "\n",
       "    .dataframe tbody tr th {\n",
       "        vertical-align: top;\n",
       "    }\n",
       "\n",
       "    .dataframe thead th {\n",
       "        text-align: right;\n",
       "    }\n",
       "</style>\n",
       "<table border=\"1\" class=\"dataframe\">\n",
       "  <thead>\n",
       "    <tr style=\"text-align: right;\">\n",
       "      <th></th>\n",
       "      <th>data_name</th>\n",
       "      <th>label_name</th>\n",
       "      <th>data_addr</th>\n",
       "      <th>label_addr</th>\n",
       "    </tr>\n",
       "  </thead>\n",
       "  <tbody>\n",
       "    <tr>\n",
       "      <th>0</th>\n",
       "      <td>image0.jpg</td>\n",
       "      <td>image0.mat</td>\n",
       "      <td>Sitting/img\\image0.jpg</td>\n",
       "      <td>Sitting/masks\\image0.mat</td>\n",
       "    </tr>\n",
       "    <tr>\n",
       "      <th>1</th>\n",
       "      <td>image1.jpg</td>\n",
       "      <td>image1.mat</td>\n",
       "      <td>Sitting/img\\image1.jpg</td>\n",
       "      <td>Sitting/masks\\image1.mat</td>\n",
       "    </tr>\n",
       "    <tr>\n",
       "      <th>2</th>\n",
       "      <td>image10.jpg</td>\n",
       "      <td>image10.mat</td>\n",
       "      <td>Sitting/img\\image10.jpg</td>\n",
       "      <td>Sitting/masks\\image10.mat</td>\n",
       "    </tr>\n",
       "    <tr>\n",
       "      <th>3</th>\n",
       "      <td>image100.jpg</td>\n",
       "      <td>image100.mat</td>\n",
       "      <td>Sitting/img\\image100.jpg</td>\n",
       "      <td>Sitting/masks\\image100.mat</td>\n",
       "    </tr>\n",
       "    <tr>\n",
       "      <th>4</th>\n",
       "      <td>image101.jpg</td>\n",
       "      <td>image101.mat</td>\n",
       "      <td>Sitting/img\\image101.jpg</td>\n",
       "      <td>Sitting/masks\\image101.mat</td>\n",
       "    </tr>\n",
       "  </tbody>\n",
       "</table>\n",
       "</div>"
      ]
     },
     "execution_count": 2,
     "metadata": {},
     "output_type": "execute_result"
    }
   ],
   "source": [
    "# get the path of the data\n",
    "data_path = os.path.join('Sitting','img')\n",
    "label_path = os.path.join('Sitting','masks')\n",
    "data_names = sorted(os.listdir(data_path))\n",
    "label_names = sorted(os.listdir(label_path))\n",
    "data_addr = []\n",
    "for i in range(len(data_names)):\n",
    "    data_addr.append(os.path.join('Sitting/img',data_names[i]))\n",
    "\n",
    "label_addr = []\n",
    "for i in range(len(label_names)):\n",
    "    label_addr.append(os.path.join('Sitting/masks',label_names[i]))\n",
    "The_Main_List = pd.DataFrame(data_names,columns = ['data_name'])\n",
    "temp_frame1 = pd.DataFrame(label_names,columns=['label_name'])\n",
    "temp_frame2 = pd.DataFrame(data_addr,columns=['data_addr'])\n",
    "temp_frame3 = pd.DataFrame(label_addr,columns=['label_addr'])\n",
    "The_Main_List = pd.concat([The_Main_List,temp_frame1],axis=1)\n",
    "The_Main_List = pd.concat([The_Main_List,temp_frame2],axis=1)\n",
    "The_Main_List = pd.concat([The_Main_List,temp_frame3],axis=1)\n",
    "The_Main_List.head()"
   ]
  },
  {
   "cell_type": "code",
   "execution_count": 3,
   "metadata": {},
   "outputs": [],
   "source": [
    "# load one image\n",
    "def load_image(path):\n",
    "    img = image.load_img(path,target_size=(256,256))\n",
    "    img = image.img_to_array(img)\n",
    "    return img\n",
    "# laod one label as mask\n",
    "def load_mask(path):\n",
    "    label = scipy.io.loadmat(path)\n",
    "    label = label['M']\n",
    "    label_resize = imresize(label,[64,64],interp='nearest')\n",
    "    label_resize = label_resize.astype('float32')\n",
    "    label_floor = np.floor(label_resize/18)\n",
    "    return label_floor"
   ]
  },
  {
   "cell_type": "code",
   "execution_count": 5,
   "metadata": {},
   "outputs": [
    {
     "name": "stderr",
     "output_type": "stream",
     "text": [
      "C:\\Users\\44163\\AppData\\Local\\Programs\\Python\\Python36\\lib\\site-packages\\ipykernel_launcher.py:10: DeprecationWarning: `imresize` is deprecated!\n`imresize` is deprecated in SciPy 1.0.0, and will be removed in 1.2.0.\nUse ``skimage.transform.resize`` instead.\n  # Remove the CWD from sys.path while we load stuff.\n"
     ]
    }
   ],
   "source": [
    "# load all data\n",
    "data = np.zeros([6,256,256,3])\n",
    "for i,path in enumerate(The_Main_List.data_addr):\n",
    "    data[i] = load_image(path)\n",
    "    if i == 5:\n",
    "        break\n",
    "\n",
    "# load all labels\n",
    "label = np.zeros([6,64,64])\n",
    "for i,path in enumerate(The_Main_List.label_addr):\n",
    "    label[i] = load_mask(path)\n",
    "    if i == 5:\n",
    "            break"
   ]
  },
  {
   "cell_type": "code",
   "execution_count": 6,
   "metadata": {},
   "outputs": [],
   "source": [
    "# split train and test\n",
    "np.random.seed(seed=1993)\n",
    "rnd = np.arange(len(data))\n",
    "# train_idx = rnd < 180\n",
    "# valid_idx = rnd >= 180\n",
    "train_data = data\n",
    "#test_data = data[valid_idx]\n",
    "train_label = label\n",
    "#test_label = label[valid_idx]"
   ]
  },
  {
   "cell_type": "code",
   "execution_count": 7,
   "metadata": {},
   "outputs": [],
   "source": [
    "def augmentor_with_keras(img_asarr,mask):\n",
    "    temp = np.zeros([256,256,4])\n",
    "    temp[:,:,0:3] = img_asarr\n",
    "    temp[128-32:128+32,128-32:128+32,3]= mask\n",
    "    after_rot = image.random_rotation(temp,rg=20,\n",
    "                                      row_axis=0,col_axis=1,channel_axis=2,fill_mode='constant')\n",
    "    after_zoom = image.random_zoom(after_rot,zoom_range=[0.7,1.3],\n",
    "                                   row_axis=0,col_axis=1,channel_axis=2,fill_mode='constant')\n",
    "    # random_shift\n",
    "    return after_zoom[:,:,0:3],after_zoom[128-32:128+32,128-32:128+32,3]"
   ]
  },
  {
   "cell_type": "code",
   "execution_count": 8,
   "metadata": {},
   "outputs": [],
   "source": [
    "def transfer_mask_to_gtmap(mask):\n",
    "    map = np.zeros([64,64,15])\n",
    "    for i in range(15):\n",
    "        for n in range(64):\n",
    "            for m in range(64):\n",
    "                if mask[n][m] == i:\n",
    "                    map[n,m,i] = 1.0\n",
    "    # transform to gtMap\n",
    "    gtmap = np.zeros([4,64,64,15])\n",
    "    for i in range(4):\n",
    "        gtmap[i] = map\n",
    "    return gtmap"
   ]
  },
  {
   "cell_type": "code",
   "execution_count": 9,
   "metadata": {},
   "outputs": [],
   "source": [
    "def get_next_batch(imgs,masks):\n",
    "    length = len(imgs)\n",
    "    idx = np.random.randint(0,length)\n",
    "    img = imgs[idx]\n",
    "    mask = masks[idx]\n",
    "    return img,mask"
   ]
  },
  {
   "cell_type": "code",
   "execution_count": 10,
   "metadata": {},
   "outputs": [],
   "source": [
    "def get_augmentor_batch(img,mask,aug_level):\n",
    "    gtmap = transfer_mask_to_gtmap(mask)\n",
    "    x_batch = np.zeros([aug_level,256,256,3])\n",
    "    y_batch = np.zeros([aug_level,4,64,64,15])\n",
    "    x_batch[0]=img\n",
    "    y_batch[0]=gtmap\n",
    "    for i in range(aug_level-1):\n",
    "        aug_img,aug_mask = augmentor_with_keras(img,mask)\n",
    "        gtmap = transfer_mask_to_gtmap(aug_mask)\n",
    "        x_batch[i+1] = aug_img\n",
    "        y_batch[i+1] = gtmap\n",
    "    return x_batch,y_batch\n"
   ]
  },
  {
   "cell_type": "code",
   "execution_count": 11,
   "metadata": {},
   "outputs": [],
   "source": [
    "def cal_acc(pred,mask):\n",
    "    length = pred.shape[0]\n",
    "    wideth = pred.shape[1]\n",
    "    help_arr = np.zeros([length,wideth])\n",
    "    for i in range(length):\n",
    "        for j in range(wideth):\n",
    "            if pred[i,j] == mask[i,j]:\n",
    "                help_arr[i,j] = 1\n",
    "    acc = np.mean(help_arr)\n",
    "    return acc"
   ]
  },
  {
   "cell_type": "code",
   "execution_count": 12,
   "metadata": {},
   "outputs": [],
   "source": [
    "def cal_iou(pred,mask):\n",
    "    length = pred.shape[0]\n",
    "    wideth = pred.shape[1]\n",
    "    # find the pixel that at the same time in two map\n",
    "    p_in_two = 0\n",
    "    for i in range(length):\n",
    "        for j in range(wideth):\n",
    "            if (pred[i,j] != 0) and (mask[i,j] != 0):\n",
    "                p_in_two = p_in_two + 1\n",
    "    # find the pixel that not equal to zero\n",
    "    p_all = 0\n",
    "    for i in range(length):\n",
    "        for j in range(wideth):\n",
    "            if (pred[i,j] != 0) or (mask[i,j] != 0):\n",
    "                p_all = p_all + 1\n",
    "    if p_all != 0:\n",
    "        iou = p_in_two/p_all\n",
    "    else:\n",
    "        iou = 0\n",
    "    return iou"
   ]
  },
  {
   "cell_type": "markdown",
   "metadata": {},
   "source": [
    "## build net "
   ]
  },
  {
   "cell_type": "code",
   "execution_count": 13,
   "metadata": {},
   "outputs": [
    {
     "name": "stdout",
     "output_type": "stream",
     "text": [
      "--Parsing Config File"
     ]
    },
    {
     "name": "stdout",
     "output_type": "stream",
     "text": [
      "\n"
     ]
    }
   ],
   "source": [
    "def process_config(conf_file):\n",
    "\t\"\"\"\n",
    "\t\"\"\"\n",
    "\tparams = {}\n",
    "\tconfig = configparser.ConfigParser()\n",
    "\tconfig.read(conf_file)\n",
    "\tfor section in config.sections():\n",
    "\t\tif section == 'DataSetHG':\n",
    "\t\t\tfor option in config.options(section):\n",
    "\t\t\t\tparams[option] = eval(config.get(section, option))\n",
    "\t\tif section == 'Network':\n",
    "\t\t\tfor option in config.options(section):\n",
    "\t\t\t\tparams[option] = eval(config.get(section, option))\n",
    "\t\tif section == 'Train':\n",
    "\t\t\tfor option in config.options(section):\n",
    "\t\t\t\tparams[option] = eval(config.get(section, option))\n",
    "\t\tif section == 'Validation':\n",
    "\t\t\tfor option in config.options(section):\n",
    "\t\t\t\tparams[option] = eval(config.get(section, option))\n",
    "\t\tif section == 'Saver':\n",
    "\t\t\tfor option in config.options(section):\n",
    "\t\t\t\tparams[option] = eval(config.get(section, option))\n",
    "\treturn params\n",
    "print('--Parsing Config File')\n",
    "params = process_config('config.cfg')"
   ]
  },
  {
   "cell_type": "code",
   "execution_count": 14,
   "metadata": {},
   "outputs": [
    {
     "name": "stdout",
     "output_type": "stream",
     "text": [
      "CREATE MODEL:"
     ]
    },
    {
     "name": "stdout",
     "output_type": "stream",
     "text": [
      "\n"
     ]
    },
    {
     "name": "stdout",
     "output_type": "stream",
     "text": [
      "---Inputs : Done (0 sec.)"
     ]
    },
    {
     "name": "stdout",
     "output_type": "stream",
     "text": [
      "\n"
     ]
    },
    {
     "name": "stdout",
     "output_type": "stream",
     "text": [
      "---Graph : Done (12 sec.)"
     ]
    },
    {
     "name": "stdout",
     "output_type": "stream",
     "text": [
      "\n"
     ]
    },
    {
     "name": "stdout",
     "output_type": "stream",
     "text": [
      "---Loss : Done (0 sec.)"
     ]
    },
    {
     "name": "stdout",
     "output_type": "stream",
     "text": [
      "\n"
     ]
    }
   ],
   "source": [
    "model = HourglassModel(nFeat=params['nfeats'], nStack=params['nstacks'], \n",
    "                       nModules=params['nmodules'], \n",
    "                       nLow=params['nlow'], outputDim=params['num_joints'], \n",
    "                       batch_size=params['batch_size'], attention = params['mcam'],\n",
    "                       training=True, drop_rate= params['dropout_rate'], \n",
    "                       lear_rate=params['learning_rate'], \n",
    "                       decay=params['learning_rate_decay'], \n",
    "                       decay_step=params['decay_step'], \n",
    "                       name=params['name'], \n",
    "                       logdir_train=params['log_dir_train'], \n",
    "                       logdir_test=params['log_dir_test'], \n",
    "                       tiny= params['tiny'], w_loss=params['weighted_loss'] , \n",
    "                       joints= params['joint_list'],modif=False)\n",
    "model.generate_model()"
   ]
  },
  {
   "cell_type": "code",
   "execution_count": 15,
   "metadata": {},
   "outputs": [],
   "source": [
    "# output: (None,4,64,64,15)\n",
    "output = model.get_output()\n",
    "loss = model.loss\n",
    "out = output[0,3]\n",
    "pred_seg = tf.argmax(out,axis=2)\n",
    "train_step = tf.train.RMSPropOptimizer(1e-3).minimize(loss)"
   ]
  },
  {
   "cell_type": "code",
   "execution_count": 16,
   "metadata": {
    "collapsed": true
   },
   "outputs": [],
   "source": [
    "saver = tf.train.Saver()\n",
    "sess = tf.Session()\n",
    "init = tf.global_variables_initializer()\n",
    "sess.run(init)"
   ]
  },
  {
   "cell_type": "code",
   "execution_count": null,
   "metadata": {
    "collapsed": true
   },
   "outputs": [
    {
     "name": "stderr",
     "output_type": "stream",
     "text": [
      "C:\\Users\\44163\\AppData\\Local\\Programs\\Python\\Python36\\lib\\site-packages\\skimage\\transform\\_warps.py:90: RuntimeWarning: invalid value encountered in double_scalars\n  row_scale = float(orig_rows) / rows\n"
     ]
    },
    {
     "ename": "LinAlgError",
     "evalue": "SVD did not converge",
     "traceback": [
      "\u001b[0;31m---------------------------------------------------------------------------\u001b[0m",
      "\u001b[0;31mLinAlgError\u001b[0m                               Traceback (most recent call last)",
      "\u001b[0;32m<ipython-input-16-9fff6efee1ae>\u001b[0m in \u001b[0;36m<module>\u001b[0;34m()\u001b[0m\n\u001b[1;32m      2\u001b[0m \u001b[0;32mfor\u001b[0m \u001b[0mi\u001b[0m \u001b[0;32min\u001b[0m \u001b[0mrange\u001b[0m\u001b[0;34m(\u001b[0m\u001b[0;36m10\u001b[0m\u001b[0;34m)\u001b[0m\u001b[0;34m:\u001b[0m\u001b[0;34m\u001b[0m\u001b[0m\n\u001b[1;32m      3\u001b[0m     \u001b[0mx_b\u001b[0m\u001b[0;34m,\u001b[0m\u001b[0my_b\u001b[0m \u001b[0;34m=\u001b[0m \u001b[0mget_next_batch\u001b[0m\u001b[0;34m(\u001b[0m\u001b[0mtrain_data\u001b[0m\u001b[0;34m,\u001b[0m\u001b[0mtrain_label\u001b[0m\u001b[0;34m)\u001b[0m\u001b[0;34m\u001b[0m\u001b[0m\n\u001b[0;32m----> 4\u001b[0;31m     \u001b[0mx\u001b[0m\u001b[0;34m,\u001b[0m\u001b[0my\u001b[0m \u001b[0;34m=\u001b[0m \u001b[0mget_augmentor_batch\u001b[0m\u001b[0;34m(\u001b[0m\u001b[0mx_b\u001b[0m\u001b[0;34m,\u001b[0m\u001b[0my_b\u001b[0m\u001b[0;34m,\u001b[0m\u001b[0;36m3\u001b[0m\u001b[0;34m)\u001b[0m\u001b[0;34m\u001b[0m\u001b[0m\n\u001b[0m\u001b[1;32m      5\u001b[0m     \u001b[0msess\u001b[0m\u001b[0;34m.\u001b[0m\u001b[0mrun\u001b[0m\u001b[0;34m(\u001b[0m\u001b[0mtrain_step\u001b[0m\u001b[0;34m,\u001b[0m\u001b[0mfeed_dict\u001b[0m\u001b[0;34m=\u001b[0m\u001b[0;34m{\u001b[0m\u001b[0mmodel\u001b[0m\u001b[0;34m.\u001b[0m\u001b[0mimg\u001b[0m\u001b[0;34m:\u001b[0m\u001b[0mx\u001b[0m\u001b[0;34m,\u001b[0m \u001b[0mmodel\u001b[0m\u001b[0;34m.\u001b[0m\u001b[0mgtMaps\u001b[0m\u001b[0;34m:\u001b[0m\u001b[0my\u001b[0m\u001b[0;34m}\u001b[0m\u001b[0;34m)\u001b[0m\u001b[0;34m\u001b[0m\u001b[0m\n\u001b[1;32m      6\u001b[0m     \u001b[0mx_for_eval\u001b[0m \u001b[0;34m=\u001b[0m \u001b[0mnp\u001b[0m\u001b[0;34m.\u001b[0m\u001b[0mexpand_dims\u001b[0m\u001b[0;34m(\u001b[0m\u001b[0mx_b\u001b[0m\u001b[0;34m,\u001b[0m\u001b[0maxis\u001b[0m\u001b[0;34m=\u001b[0m\u001b[0;36m0\u001b[0m\u001b[0;34m)\u001b[0m\u001b[0;34m\u001b[0m\u001b[0m\n",
      "\u001b[0;32m<ipython-input-9-c392c53a21bb>\u001b[0m in \u001b[0;36mget_augmentor_batch\u001b[0;34m(img, mask, aug_level)\u001b[0m\n\u001b[1;32m      7\u001b[0m     \u001b[0;32mfor\u001b[0m \u001b[0mi\u001b[0m \u001b[0;32min\u001b[0m \u001b[0mrange\u001b[0m\u001b[0;34m(\u001b[0m\u001b[0maug_level\u001b[0m\u001b[0;34m-\u001b[0m\u001b[0;36m1\u001b[0m\u001b[0;34m)\u001b[0m\u001b[0;34m:\u001b[0m\u001b[0;34m\u001b[0m\u001b[0m\n\u001b[1;32m      8\u001b[0m         \u001b[0maug_img\u001b[0m\u001b[0;34m,\u001b[0m\u001b[0maug_mask\u001b[0m \u001b[0;34m=\u001b[0m \u001b[0maugmentor\u001b[0m\u001b[0;34m(\u001b[0m\u001b[0mimg\u001b[0m\u001b[0;34m,\u001b[0m\u001b[0mmask\u001b[0m\u001b[0;34m)\u001b[0m\u001b[0;34m\u001b[0m\u001b[0m\n\u001b[0;32m----> 9\u001b[0;31m         \u001b[0mgtmap\u001b[0m \u001b[0;34m=\u001b[0m \u001b[0mtransfer_mask_to_gtmap\u001b[0m\u001b[0;34m(\u001b[0m\u001b[0maug_mask\u001b[0m\u001b[0;34m)\u001b[0m\u001b[0;34m\u001b[0m\u001b[0m\n\u001b[0m\u001b[1;32m     10\u001b[0m         \u001b[0mx_batch\u001b[0m\u001b[0;34m[\u001b[0m\u001b[0mi\u001b[0m\u001b[0;34m+\u001b[0m\u001b[0;36m1\u001b[0m\u001b[0;34m]\u001b[0m \u001b[0;34m=\u001b[0m \u001b[0maug_img\u001b[0m\u001b[0;34m\u001b[0m\u001b[0m\n\u001b[1;32m     11\u001b[0m         \u001b[0my_batch\u001b[0m\u001b[0;34m[\u001b[0m\u001b[0mi\u001b[0m\u001b[0;34m+\u001b[0m\u001b[0;36m1\u001b[0m\u001b[0;34m]\u001b[0m \u001b[0;34m=\u001b[0m \u001b[0mgtmap\u001b[0m\u001b[0;34m\u001b[0m\u001b[0m\n",
      "\u001b[0;32m<ipython-input-7-bea3b1d40f9b>\u001b[0m in \u001b[0;36mtransfer_mask_to_gtmap\u001b[0;34m(mask)\u001b[0m\n\u001b[1;32m      1\u001b[0m \u001b[0;32mdef\u001b[0m \u001b[0mtransfer_mask_to_gtmap\u001b[0m\u001b[0;34m(\u001b[0m\u001b[0mmask\u001b[0m\u001b[0;34m)\u001b[0m\u001b[0;34m:\u001b[0m\u001b[0;34m\u001b[0m\u001b[0m\n\u001b[0;32m----> 2\u001b[0;31m     \u001b[0mlabel_floor\u001b[0m \u001b[0;34m=\u001b[0m \u001b[0mtransform\u001b[0m\u001b[0;34m.\u001b[0m\u001b[0mrescale\u001b[0m\u001b[0;34m(\u001b[0m\u001b[0mmask\u001b[0m\u001b[0;34m,\u001b[0m\u001b[0mscale\u001b[0m\u001b[0;34m=\u001b[0m\u001b[0;36m0.25\u001b[0m\u001b[0;34m,\u001b[0m\u001b[0mmode\u001b[0m\u001b[0;34m=\u001b[0m\u001b[0;34m'constant'\u001b[0m\u001b[0;34m)\u001b[0m\u001b[0;34m\u001b[0m\u001b[0m\n\u001b[0m\u001b[1;32m      3\u001b[0m     \u001b[0;31m# transform to sigle map\u001b[0m\u001b[0;34m\u001b[0m\u001b[0;34m\u001b[0m\u001b[0m\n\u001b[1;32m      4\u001b[0m     \u001b[0mmap\u001b[0m \u001b[0;34m=\u001b[0m \u001b[0mnp\u001b[0m\u001b[0;34m.\u001b[0m\u001b[0mzeros\u001b[0m\u001b[0;34m(\u001b[0m\u001b[0;34m[\u001b[0m\u001b[0;36m64\u001b[0m\u001b[0;34m,\u001b[0m\u001b[0;36m64\u001b[0m\u001b[0;34m,\u001b[0m\u001b[0;36m15\u001b[0m\u001b[0;34m]\u001b[0m\u001b[0;34m)\u001b[0m\u001b[0;34m\u001b[0m\u001b[0m\n\u001b[1;32m      5\u001b[0m     \u001b[0;32mfor\u001b[0m \u001b[0mi\u001b[0m \u001b[0;32min\u001b[0m \u001b[0mrange\u001b[0m\u001b[0;34m(\u001b[0m\u001b[0;36m15\u001b[0m\u001b[0;34m)\u001b[0m\u001b[0;34m:\u001b[0m\u001b[0;34m\u001b[0m\u001b[0m\n",
      "\u001b[0;32mC:\\Users\\44163\\AppData\\Local\\Programs\\Python\\Python36\\lib\\site-packages\\skimage\\transform\\_warps.py\u001b[0m in \u001b[0;36mrescale\u001b[0;34m(image, scale, order, mode, cval, clip, preserve_range)\u001b[0m\n\u001b[1;32m    203\u001b[0m \u001b[0;34m\u001b[0m\u001b[0m\n\u001b[1;32m    204\u001b[0m     return resize(image, output_shape, order=order, mode=mode, cval=cval,\n\u001b[0;32m--> 205\u001b[0;31m                   clip=clip, preserve_range=preserve_range)\n\u001b[0m\u001b[1;32m    206\u001b[0m \u001b[0;34m\u001b[0m\u001b[0m\n\u001b[1;32m    207\u001b[0m \u001b[0;34m\u001b[0m\u001b[0m\n",
      "\u001b[0;32mC:\\Users\\44163\\AppData\\Local\\Programs\\Python\\Python36\\lib\\site-packages\\skimage\\transform\\_warps.py\u001b[0m in \u001b[0;36mresize\u001b[0;34m(image, output_shape, order, mode, cval, clip, preserve_range)\u001b[0m\n\u001b[1;32m    129\u001b[0m \u001b[0;34m\u001b[0m\u001b[0m\n\u001b[1;32m    130\u001b[0m             \u001b[0mtform\u001b[0m \u001b[0;34m=\u001b[0m \u001b[0mAffineTransform\u001b[0m\u001b[0;34m(\u001b[0m\u001b[0;34m)\u001b[0m\u001b[0;34m\u001b[0m\u001b[0m\n\u001b[0;32m--> 131\u001b[0;31m             \u001b[0mtform\u001b[0m\u001b[0;34m.\u001b[0m\u001b[0mestimate\u001b[0m\u001b[0;34m(\u001b[0m\u001b[0msrc_corners\u001b[0m\u001b[0;34m,\u001b[0m \u001b[0mdst_corners\u001b[0m\u001b[0;34m)\u001b[0m\u001b[0;34m\u001b[0m\u001b[0m\n\u001b[0m\u001b[1;32m    132\u001b[0m \u001b[0;34m\u001b[0m\u001b[0m\n\u001b[1;32m    133\u001b[0m         out = warp(image, tform, output_shape=output_shape, order=order,\n",
      "\u001b[0;32mC:\\Users\\44163\\AppData\\Local\\Programs\\Python\\Python36\\lib\\site-packages\\skimage\\transform\\_geometric.py\u001b[0m in \u001b[0;36mestimate\u001b[0;34m(self, src, dst)\u001b[0m\n\u001b[1;32m    677\u001b[0m         \u001b[0mA\u001b[0m \u001b[0;34m=\u001b[0m \u001b[0mA\u001b[0m\u001b[0;34m[\u001b[0m\u001b[0;34m:\u001b[0m\u001b[0;34m,\u001b[0m \u001b[0mlist\u001b[0m\u001b[0;34m(\u001b[0m\u001b[0mself\u001b[0m\u001b[0;34m.\u001b[0m\u001b[0m_coeffs\u001b[0m\u001b[0;34m)\u001b[0m \u001b[0;34m+\u001b[0m \u001b[0;34m[\u001b[0m\u001b[0;36m8\u001b[0m\u001b[0;34m]\u001b[0m\u001b[0;34m]\u001b[0m\u001b[0;34m\u001b[0m\u001b[0m\n\u001b[1;32m    678\u001b[0m \u001b[0;34m\u001b[0m\u001b[0m\n\u001b[0;32m--> 679\u001b[0;31m         \u001b[0m_\u001b[0m\u001b[0;34m,\u001b[0m \u001b[0m_\u001b[0m\u001b[0;34m,\u001b[0m \u001b[0mV\u001b[0m \u001b[0;34m=\u001b[0m \u001b[0mnp\u001b[0m\u001b[0;34m.\u001b[0m\u001b[0mlinalg\u001b[0m\u001b[0;34m.\u001b[0m\u001b[0msvd\u001b[0m\u001b[0;34m(\u001b[0m\u001b[0mA\u001b[0m\u001b[0;34m)\u001b[0m\u001b[0;34m\u001b[0m\u001b[0m\n\u001b[0m\u001b[1;32m    680\u001b[0m \u001b[0;34m\u001b[0m\u001b[0m\n\u001b[1;32m    681\u001b[0m         \u001b[0mH\u001b[0m \u001b[0;34m=\u001b[0m \u001b[0mnp\u001b[0m\u001b[0;34m.\u001b[0m\u001b[0mzeros\u001b[0m\u001b[0;34m(\u001b[0m\u001b[0;34m(\u001b[0m\u001b[0;36m3\u001b[0m\u001b[0;34m,\u001b[0m \u001b[0;36m3\u001b[0m\u001b[0;34m)\u001b[0m\u001b[0;34m)\u001b[0m\u001b[0;34m\u001b[0m\u001b[0m\n",
      "\u001b[0;32mC:\\Users\\44163\\AppData\\Local\\Programs\\Python\\Python36\\lib\\site-packages\\numpy\\linalg\\linalg.py\u001b[0m in \u001b[0;36msvd\u001b[0;34m(a, full_matrices, compute_uv)\u001b[0m\n\u001b[1;32m   1442\u001b[0m \u001b[0;34m\u001b[0m\u001b[0m\n\u001b[1;32m   1443\u001b[0m         \u001b[0msignature\u001b[0m \u001b[0;34m=\u001b[0m \u001b[0;34m'D->DdD'\u001b[0m \u001b[0;32mif\u001b[0m \u001b[0misComplexType\u001b[0m\u001b[0;34m(\u001b[0m\u001b[0mt\u001b[0m\u001b[0;34m)\u001b[0m \u001b[0;32melse\u001b[0m \u001b[0;34m'd->ddd'\u001b[0m\u001b[0;34m\u001b[0m\u001b[0m\n\u001b[0;32m-> 1444\u001b[0;31m         \u001b[0mu\u001b[0m\u001b[0;34m,\u001b[0m \u001b[0ms\u001b[0m\u001b[0;34m,\u001b[0m \u001b[0mvh\u001b[0m \u001b[0;34m=\u001b[0m \u001b[0mgufunc\u001b[0m\u001b[0;34m(\u001b[0m\u001b[0ma\u001b[0m\u001b[0;34m,\u001b[0m \u001b[0msignature\u001b[0m\u001b[0;34m=\u001b[0m\u001b[0msignature\u001b[0m\u001b[0;34m,\u001b[0m \u001b[0mextobj\u001b[0m\u001b[0;34m=\u001b[0m\u001b[0mextobj\u001b[0m\u001b[0;34m)\u001b[0m\u001b[0;34m\u001b[0m\u001b[0m\n\u001b[0m\u001b[1;32m   1445\u001b[0m         \u001b[0mu\u001b[0m \u001b[0;34m=\u001b[0m \u001b[0mu\u001b[0m\u001b[0;34m.\u001b[0m\u001b[0mastype\u001b[0m\u001b[0;34m(\u001b[0m\u001b[0mresult_t\u001b[0m\u001b[0;34m,\u001b[0m \u001b[0mcopy\u001b[0m\u001b[0;34m=\u001b[0m\u001b[0;32mFalse\u001b[0m\u001b[0;34m)\u001b[0m\u001b[0;34m\u001b[0m\u001b[0m\n\u001b[1;32m   1446\u001b[0m         \u001b[0ms\u001b[0m \u001b[0;34m=\u001b[0m \u001b[0ms\u001b[0m\u001b[0;34m.\u001b[0m\u001b[0mastype\u001b[0m\u001b[0;34m(\u001b[0m\u001b[0m_realType\u001b[0m\u001b[0;34m(\u001b[0m\u001b[0mresult_t\u001b[0m\u001b[0;34m)\u001b[0m\u001b[0;34m,\u001b[0m \u001b[0mcopy\u001b[0m\u001b[0;34m=\u001b[0m\u001b[0;32mFalse\u001b[0m\u001b[0;34m)\u001b[0m\u001b[0;34m\u001b[0m\u001b[0m\n",
      "\u001b[0;32mC:\\Users\\44163\\AppData\\Local\\Programs\\Python\\Python36\\lib\\site-packages\\numpy\\linalg\\linalg.py\u001b[0m in \u001b[0;36m_raise_linalgerror_svd_nonconvergence\u001b[0;34m(err, flag)\u001b[0m\n\u001b[1;32m     96\u001b[0m \u001b[0;34m\u001b[0m\u001b[0m\n\u001b[1;32m     97\u001b[0m \u001b[0;32mdef\u001b[0m \u001b[0m_raise_linalgerror_svd_nonconvergence\u001b[0m\u001b[0;34m(\u001b[0m\u001b[0merr\u001b[0m\u001b[0;34m,\u001b[0m \u001b[0mflag\u001b[0m\u001b[0;34m)\u001b[0m\u001b[0;34m:\u001b[0m\u001b[0;34m\u001b[0m\u001b[0m\n\u001b[0;32m---> 98\u001b[0;31m     \u001b[0;32mraise\u001b[0m \u001b[0mLinAlgError\u001b[0m\u001b[0;34m(\u001b[0m\u001b[0;34m\"SVD did not converge\"\u001b[0m\u001b[0;34m)\u001b[0m\u001b[0;34m\u001b[0m\u001b[0m\n\u001b[0m\u001b[1;32m     99\u001b[0m \u001b[0;34m\u001b[0m\u001b[0m\n\u001b[1;32m    100\u001b[0m \u001b[0;32mdef\u001b[0m \u001b[0mget_linalg_error_extobj\u001b[0m\u001b[0;34m(\u001b[0m\u001b[0mcallback\u001b[0m\u001b[0;34m)\u001b[0m\u001b[0;34m:\u001b[0m\u001b[0;34m\u001b[0m\u001b[0m\n",
      "\u001b[0;31mLinAlgError\u001b[0m: SVD did not converge"
     ],
     "output_type": "error"
    }
   ],
   "source": [
    "# train\n",
    "for i in range(10):\n",
    "    x_b,y_b = get_next_batch(train_data,train_label)\n",
    "    x,y = get_augmentor_batch(x_b,y_b,3)\n",
    "    sess.run(train_step,feed_dict={model.img:x, model.gtMaps:y})\n",
    "\n",
    "    x_for_eval = np.expand_dims(x_b,axis=0)\n",
    "    pred = sess.run(pred_seg,feed_dict={model.img:x_for_eval})\n",
    "    acc = cal_acc(pred,y_b)\n",
    "    iou = cal_iou(pred,y_b)\n",
    "    print('acc:%f',acc,'  ','iou:%f',iou)"
   ]
  },
  {
   "cell_type": "code",
   "execution_count": null,
   "metadata": {},
   "outputs": [],
   "source": [
    "# save the network\n",
    "path = \"my_net\"\n",
    "is_exist = os.path.exists(path)\n",
    "if not is_exist:\n",
    "    os.makedirs(path)\n",
    "full_path = os.path.join(path,'save_net.ckpt')\n",
    "save_path = saver.save(sess,full_path)"
   ]
  },
  {
   "cell_type": "code",
   "execution_count": null,
   "metadata": {},
   "outputs": [],
   "source": []
  }
 ],
 "metadata": {
  "kernelspec": {
   "display_name": "Python 2",
   "language": "python",
   "name": "python2"
  },
  "language_info": {
   "codemirror_mode": {
    "name": "ipython",
    "version": 2
   },
   "file_extension": ".py",
   "mimetype": "text/x-python",
   "name": "python",
   "nbconvert_exporter": "python",
   "pygments_lexer": "ipython2",
   "version": "2.7.6"
  }
 },
 "nbformat": 4,
 "nbformat_minor": 0
}
