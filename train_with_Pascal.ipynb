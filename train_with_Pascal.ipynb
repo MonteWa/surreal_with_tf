{
 "cells": [
  {
   "cell_type": "code",
   "execution_count": 1,
   "metadata": {
    "collapsed": true
   },
   "outputs": [
    {
     "name": "stderr",
     "output_type": "stream",
     "text": [
      "C:\\Users\\44163\\AppData\\Local\\Programs\\Python\\Python36\\lib\\site-packages\\h5py\\__init__.py:36: FutureWarning: Conversion of the second argument of issubdtype from `float` to `np.floating` is deprecated. In future, it will be treated as `np.float64 == np.dtype(float).type`.\n  from ._conv import register_converters as _register_converters\n"
     ]
    },
    {
     "name": "stderr",
     "output_type": "stream",
     "text": [
      "Using TensorFlow backend.\n"
     ]
    }
   ],
   "source": [
    "import tensorflow as tf\n",
    "import numpy as np\n",
    "from hourglass_tiny import HourglassModel\n",
    "import configparser\n",
    "import os\n",
    "import pandas as pd\n",
    "from keras.preprocessing import image\n",
    "import scipy.io\n",
    "from scipy.misc import imresize\n",
    "import matplotlib.pyplot as plt\n",
    "import math\n",
    "from tqdm import tqdm"
   ]
  },
  {
   "cell_type": "code",
   "execution_count": 16,
   "metadata": {},
   "outputs": [
    {
     "data": {
      "text/html": [
       "<div>\n",
       "<style scoped>\n",
       "    .dataframe tbody tr th:only-of-type {\n",
       "        vertical-align: middle;\n",
       "    }\n",
       "\n",
       "    .dataframe tbody tr th {\n",
       "        vertical-align: top;\n",
       "    }\n",
       "\n",
       "    .dataframe thead th {\n",
       "        text-align: right;\n",
       "    }\n",
       "</style>\n",
       "<table border=\"1\" class=\"dataframe\">\n",
       "  <thead>\n",
       "    <tr style=\"text-align: right;\">\n",
       "      <th></th>\n",
       "      <th>d_name</th>\n",
       "      <th>m_name</th>\n",
       "      <th>d_path</th>\n",
       "      <th>m_path</th>\n",
       "    </tr>\n",
       "  </thead>\n",
       "  <tbody>\n",
       "    <tr>\n",
       "      <th>0</th>\n",
       "      <td>2008_000008.jpg</td>\n",
       "      <td>2008_000008.mat</td>\n",
       "      <td>VOC2010\\JPEGImages\\2008_000008.jpg</td>\n",
       "      <td>VOC2010\\trainval\\Annotations_Part\\2008_000008.mat</td>\n",
       "    </tr>\n",
       "    <tr>\n",
       "      <th>1</th>\n",
       "      <td>2008_000023.jpg</td>\n",
       "      <td>2008_000023.mat</td>\n",
       "      <td>VOC2010\\JPEGImages\\2008_000023.jpg</td>\n",
       "      <td>VOC2010\\trainval\\Annotations_Part\\2008_000023.mat</td>\n",
       "    </tr>\n",
       "    <tr>\n",
       "      <th>2</th>\n",
       "      <td>2008_000036.jpg</td>\n",
       "      <td>2008_000036.mat</td>\n",
       "      <td>VOC2010\\JPEGImages\\2008_000036.jpg</td>\n",
       "      <td>VOC2010\\trainval\\Annotations_Part\\2008_000036.mat</td>\n",
       "    </tr>\n",
       "    <tr>\n",
       "      <th>3</th>\n",
       "      <td>2008_000041.jpg</td>\n",
       "      <td>2008_000041.mat</td>\n",
       "      <td>VOC2010\\JPEGImages\\2008_000041.jpg</td>\n",
       "      <td>VOC2010\\trainval\\Annotations_Part\\2008_000041.mat</td>\n",
       "    </tr>\n",
       "    <tr>\n",
       "      <th>4</th>\n",
       "      <td>2008_000096.jpg</td>\n",
       "      <td>2008_000096.mat</td>\n",
       "      <td>VOC2010\\JPEGImages\\2008_000096.jpg</td>\n",
       "      <td>VOC2010\\trainval\\Annotations_Part\\2008_000096.mat</td>\n",
       "    </tr>\n",
       "  </tbody>\n",
       "</table>\n",
       "</div>"
      ],
      "text/plain": [
       "<div>\n",
       "<style scoped>\n",
       "    .dataframe tbody tr th:only-of-type {\n",
       "        vertical-align: middle;\n",
       "    }\n",
       "\n",
       "    .dataframe tbody tr th {\n",
       "        vertical-align: top;\n",
       "    }\n",
       "\n",
       "    .dataframe thead th {\n",
       "        text-align: right;\n",
       "    }\n",
       "</style>\n",
       "<table border=\"1\" class=\"dataframe\">\n",
       "  <thead>\n",
       "    <tr style=\"text-align: right;\">\n",
       "      <th></th>\n",
       "      <th>d_name</th>\n",
       "      <th>m_name</th>\n",
       "      <th>d_path</th>\n",
       "      <th>m_path</th>\n",
       "    </tr>\n",
       "  </thead>\n",
       "  <tbody>\n",
       "    <tr>\n",
       "      <th>0</th>\n",
       "      <td>2008_000008.jpg</td>\n",
       "      <td>2008_000008.mat</td>\n",
       "      <td>VOC2010\\JPEGImages\\2008_000008.jpg</td>\n",
       "      <td>VOC2010\\trainval\\Annotations_Part\\2008_000008.mat</td>\n",
       "    </tr>\n",
       "    <tr>\n",
       "      <th>1</th>\n",
       "      <td>2008_000023.jpg</td>\n",
       "      <td>2008_000023.mat</td>\n",
       "      <td>VOC2010\\JPEGImages\\2008_000023.jpg</td>\n",
       "      <td>VOC2010\\trainval\\Annotations_Part\\2008_000023.mat</td>\n",
       "    </tr>\n",
       "    <tr>\n",
       "      <th>2</th>\n",
       "      <td>2008_000036.jpg</td>\n",
       "      <td>2008_000036.mat</td>\n",
       "      <td>VOC2010\\JPEGImages\\2008_000036.jpg</td>\n",
       "      <td>VOC2010\\trainval\\Annotations_Part\\2008_000036.mat</td>\n",
       "    </tr>\n",
       "    <tr>\n",
       "      <th>3</th>\n",
       "      <td>2008_000041.jpg</td>\n",
       "      <td>2008_000041.mat</td>\n",
       "      <td>VOC2010\\JPEGImages\\2008_000041.jpg</td>\n",
       "      <td>VOC2010\\trainval\\Annotations_Part\\2008_000041.mat</td>\n",
       "    </tr>\n",
       "    <tr>\n",
       "      <th>4</th>\n",
       "      <td>2008_000096.jpg</td>\n",
       "      <td>2008_000096.mat</td>\n",
       "      <td>VOC2010\\JPEGImages\\2008_000096.jpg</td>\n",
       "      <td>VOC2010\\trainval\\Annotations_Part\\2008_000096.mat</td>\n",
       "    </tr>\n",
       "  </tbody>\n",
       "</table>\n",
       "</div>"
      ]
     },
     "execution_count": 16,
     "metadata": {},
     "output_type": "execute_result"
    }
   ],
   "source": [
    "# get the names of the data\n",
    "person_set = pd.read_table('VOC2010/ImageSets/Main/person_train.txt',header=None)\n",
    "d_names = []\n",
    "data_len = len(person_set)\n",
    "for i in range(data_len):\n",
    "    if person_set[0][i][12:14] == ' 1':\n",
    "        name = person_set[0][i][0:11]+'.jpg'\n",
    "        d_names.append(name)\n",
    "data_tabel = pd.DataFrame(d_names,columns=['d_name'])\n",
    "# get names of masks\n",
    "m_names = []\n",
    "data_len = len(person_set)\n",
    "for i in range(data_len):\n",
    "    if person_set[0][i][12:14] == ' 1':\n",
    "        name = person_set[0][i][0:11]+'.mat'\n",
    "        m_names.append(name)\n",
    "m_names = pd.DataFrame(m_names,columns=['m_name'])\n",
    "data_tabel = pd.concat([data_tabel,m_names],axis=1)\n",
    "# get the address of the data\n",
    "address = []\n",
    "for i in range(len(data_tabel)):\n",
    "    path = os.path.join('VOC2010','JPEGImages',data_tabel['d_name'][i])\n",
    "    address.append(path)\n",
    "path = pd.DataFrame(address,columns=['d_path'])\n",
    "data_tabel = pd.concat([data_tabel,path],axis=1)\n",
    "# get address of mask\n",
    "address = []\n",
    "for i in range(len(data_tabel)):\n",
    "    path = os.path.join('VOC2010','trainval','Annotations_Part',data_tabel['m_name'][i])\n",
    "    address.append(path)\n",
    "path = pd.DataFrame(address,columns=['m_path'])\n",
    "data_tabel = pd.concat([data_tabel,path],axis=1)\n",
    "data_tabel.head()"
   ]
  },
  {
   "cell_type": "code",
   "execution_count": null,
   "metadata": {},
   "outputs": [],
   "source": [
    "# load data\n",
    "def load_image(path):\n",
    "    img = image.load_img(path,target_size=(256,256))\n",
    "    img = image.img_to_array(img)\n",
    "    return img"
   ]
  },
  {
   "cell_type": "code",
   "execution_count": 17,
   "metadata": {},
   "outputs": [],
   "source": [
    "label = scipy.io.loadmat(data_tabel['m_path'][0])"
   ]
  },
  {
   "cell_type": "code",
   "execution_count": 107,
   "metadata": {},
   "outputs": [
    {
     "data": {
      "text/plain": [
       "2"
      ]
     },
     "execution_count": 107,
     "metadata": {},
     "output_type": "execute_result"
    }
   ],
   "source": [
    "len(label['anno'][0][0][1][0][0][3][0][0])"
   ]
  },
  {
   "cell_type": "code",
   "execution_count": 106,
   "metadata": {},
   "outputs": [
    {
     "data": {
      "text/plain": [
       "array([(array(['head'], dtype='<U4'), array([[0, 0, 0, ..., 0, 0, 0],\n       [0, 0, 0, ..., 0, 0, 0],\n       [0, 0, 0, ..., 0, 0, 0],\n       ...,\n       [0, 0, 0, ..., 0, 0, 0],\n       [0, 0, 0, ..., 0, 0, 0],\n       [0, 0, 0, ..., 0, 0, 0]], dtype=uint8)),\n       (array(['lear'], dtype='<U4'), array([[0, 0, 0, ..., 0, 0, 0],\n       [0, 0, 0, ..., 0, 0, 0],\n       [0, 0, 0, ..., 0, 0, 0],\n       ...,\n       [0, 0, 0, ..., 0, 0, 0],\n       [0, 0, 0, ..., 0, 0, 0],\n       [0, 0, 0, ..., 0, 0, 0]], dtype=uint8)),\n       (array(['leye'], dtype='<U4'), array([[0, 0, 0, ..., 0, 0, 0],\n       [0, 0, 0, ..., 0, 0, 0],\n       [0, 0, 0, ..., 0, 0, 0],\n       ...,\n       [0, 0, 0, ..., 0, 0, 0],\n       [0, 0, 0, ..., 0, 0, 0],\n       [0, 0, 0, ..., 0, 0, 0]], dtype=uint8)),\n       (array(['lebrow'], dtype='<U6'), array([[0, 0, 0, ..., 0, 0, 0],\n       [0, 0, 0, ..., 0, 0, 0],\n       [0, 0, 0, ..., 0, 0, 0],\n       ...,\n       [0, 0, 0, ..., 0, 0, 0],\n       [0, 0, 0, ..., 0, 0, 0],\n       [0, 0, 0, ..., 0, 0, 0]], dtype=uint8)),\n       (array(['mouth'], dtype='<U5'), array([[0, 0, 0, ..., 0, 0, 0],\n       [0, 0, 0, ..., 0, 0, 0],\n       [0, 0, 0, ..., 0, 0, 0],\n       ...,\n       [0, 0, 0, ..., 0, 0, 0],\n       [0, 0, 0, ..., 0, 0, 0],\n       [0, 0, 0, ..., 0, 0, 0]], dtype=uint8)),\n       (array(['hair'], dtype='<U4'), array([[0, 0, 0, ..., 0, 0, 0],\n       [0, 0, 0, ..., 0, 0, 0],\n       [0, 0, 0, ..., 0, 0, 0],\n       ...,\n       [0, 0, 0, ..., 0, 0, 0],\n       [0, 0, 0, ..., 0, 0, 0],\n       [0, 0, 0, ..., 0, 0, 0]], dtype=uint8)),\n       (array(['nose'], dtype='<U4'), array([[0, 0, 0, ..., 0, 0, 0],\n       [0, 0, 0, ..., 0, 0, 0],\n       [0, 0, 0, ..., 0, 0, 0],\n       ...,\n       [0, 0, 0, ..., 0, 0, 0],\n       [0, 0, 0, ..., 0, 0, 0],\n       [0, 0, 0, ..., 0, 0, 0]], dtype=uint8)),\n       (array(['torso'], dtype='<U5'), array([[0, 0, 0, ..., 0, 0, 0],\n       [0, 0, 0, ..., 0, 0, 0],\n       [0, 0, 0, ..., 0, 0, 0],\n       ...,\n       [0, 0, 0, ..., 0, 0, 0],\n       [0, 0, 0, ..., 0, 0, 0],\n       [0, 0, 0, ..., 0, 0, 0]], dtype=uint8)),\n       (array(['neck'], dtype='<U4'), array([[0, 0, 0, ..., 0, 0, 0],\n       [0, 0, 0, ..., 0, 0, 0],\n       [0, 0, 0, ..., 0, 0, 0],\n       ...,\n       [0, 0, 0, ..., 0, 0, 0],\n       [0, 0, 0, ..., 0, 0, 0],\n       [0, 0, 0, ..., 0, 0, 0]], dtype=uint8)),\n       (array(['llarm'], dtype='<U5'), array([[0, 0, 0, ..., 0, 0, 0],\n       [0, 0, 0, ..., 0, 0, 0],\n       [0, 0, 0, ..., 0, 0, 0],\n       ...,\n       [0, 0, 0, ..., 0, 0, 0],\n       [0, 0, 0, ..., 0, 0, 0],\n       [0, 0, 0, ..., 0, 0, 0]], dtype=uint8)),\n       (array(['luarm'], dtype='<U5'), array([[0, 0, 0, ..., 0, 0, 0],\n       [0, 0, 0, ..., 0, 0, 0],\n       [0, 0, 0, ..., 0, 0, 0],\n       ...,\n       [0, 0, 0, ..., 0, 0, 0],\n       [0, 0, 0, ..., 0, 0, 0],\n       [0, 0, 0, ..., 0, 0, 0]], dtype=uint8)),\n       (array(['llleg'], dtype='<U5'), array([[0, 0, 0, ..., 0, 0, 0],\n       [0, 0, 0, ..., 0, 0, 0],\n       [0, 0, 0, ..., 0, 0, 0],\n       ...,\n       [0, 0, 0, ..., 0, 0, 0],\n       [0, 0, 0, ..., 0, 0, 0],\n       [0, 0, 0, ..., 0, 0, 0]], dtype=uint8)),\n       (array(['luleg'], dtype='<U5'), array([[0, 0, 0, ..., 0, 0, 0],\n       [0, 0, 0, ..., 0, 0, 0],\n       [0, 0, 0, ..., 0, 0, 0],\n       ...,\n       [0, 0, 0, ..., 0, 0, 0],\n       [0, 0, 0, ..., 0, 0, 0],\n       [0, 0, 0, ..., 0, 0, 0]], dtype=uint8)),\n       (array(['ruleg'], dtype='<U5'), array([[0, 0, 0, ..., 0, 0, 0],\n       [0, 0, 0, ..., 0, 0, 0],\n       [0, 0, 0, ..., 0, 0, 0],\n       ...,\n       [0, 0, 0, ..., 0, 0, 0],\n       [0, 0, 0, ..., 0, 0, 0],\n       [0, 0, 0, ..., 0, 0, 0]], dtype=uint8))],\n      dtype=[('part_name', 'O'), ('mask', 'O')])"
      ]
     },
     "execution_count": 106,
     "metadata": {},
     "output_type": "execute_result"
    }
   ],
   "source": [
    "label['anno'][0][0][1][0][0][3][0]"
   ]
  },
  {
   "cell_type": "code",
   "execution_count": 48,
   "metadata": {},
   "outputs": [],
   "source": [
    "plt.figure()\n",
    "plt.imshow(test)\n",
    "plt.show()"
   ]
  },
  {
   "cell_type": "code",
   "execution_count": null,
   "metadata": {},
   "outputs": [],
   "source": []
  }
 ],
 "metadata": {
  "kernelspec": {
   "display_name": "Python 2",
   "language": "python",
   "name": "python2"
  },
  "language_info": {
   "codemirror_mode": {
    "name": "ipython",
    "version": 2
   },
   "file_extension": ".py",
   "mimetype": "text/x-python",
   "name": "python",
   "nbconvert_exporter": "python",
   "pygments_lexer": "ipython2",
   "version": "2.7.6"
  }
 },
 "nbformat": 4,
 "nbformat_minor": 0
}
