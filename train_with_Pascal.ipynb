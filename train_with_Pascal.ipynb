{
 "cells": [
  {
   "cell_type": "code",
   "execution_count": 1,
   "metadata": {
    "collapsed": true
   },
   "outputs": [
    {
     "name": "stderr",
     "output_type": "stream",
     "text": [
      "C:\\Users\\44163\\AppData\\Local\\Programs\\Python\\Python36\\lib\\site-packages\\h5py\\__init__.py:36: FutureWarning: Conversion of the second argument of issubdtype from `float` to `np.floating` is deprecated. In future, it will be treated as `np.float64 == np.dtype(float).type`.\n  from ._conv import register_converters as _register_converters\n"
     ]
    },
    {
     "name": "stderr",
     "output_type": "stream",
     "text": [
      "Using TensorFlow backend.\n"
     ]
    }
   ],
   "source": [
    "import tensorflow as tf\n",
    "from hourglass_tiny import HourglassModel\n",
    "import configparser\n",
    "import os\n",
    "import pandas as pd\n",
    "import scipy.io\n",
    "import matplotlib.pyplot as plt\n",
    "from skimage.transform import resize\n",
    "from my_utils import *"
   ]
  },
  {
   "cell_type": "code",
   "execution_count": 2,
   "metadata": {},
   "outputs": [
    {
     "data": {
      "text/html": [
       "<div>\n",
       "<style scoped>\n",
       "    .dataframe tbody tr th:only-of-type {\n",
       "        vertical-align: middle;\n",
       "    }\n",
       "\n",
       "    .dataframe tbody tr th {\n",
       "        vertical-align: top;\n",
       "    }\n",
       "\n",
       "    .dataframe thead th {\n",
       "        text-align: right;\n",
       "    }\n",
       "</style>\n",
       "<table border=\"1\" class=\"dataframe\">\n",
       "  <thead>\n",
       "    <tr style=\"text-align: right;\">\n",
       "      <th></th>\n",
       "      <th>jpg_path</th>\n",
       "      <th>mat_path</th>\n",
       "    </tr>\n",
       "  </thead>\n",
       "  <tbody>\n",
       "    <tr>\n",
       "      <th>0</th>\n",
       "      <td>VOC2010/JPEGImages\\2008_000003.jpg</td>\n",
       "      <td>VOC2010/all_person_masks\\2008_000003.mat</td>\n",
       "    </tr>\n",
       "    <tr>\n",
       "      <th>1</th>\n",
       "      <td>VOC2010/JPEGImages\\2008_000008.jpg</td>\n",
       "      <td>VOC2010/all_person_masks\\2008_000008.mat</td>\n",
       "    </tr>\n",
       "    <tr>\n",
       "      <th>2</th>\n",
       "      <td>VOC2010/JPEGImages\\2008_000023.jpg</td>\n",
       "      <td>VOC2010/all_person_masks\\2008_000023.mat</td>\n",
       "    </tr>\n",
       "    <tr>\n",
       "      <th>3</th>\n",
       "      <td>VOC2010/JPEGImages\\2008_000026.jpg</td>\n",
       "      <td>VOC2010/all_person_masks\\2008_000026.mat</td>\n",
       "    </tr>\n",
       "    <tr>\n",
       "      <th>4</th>\n",
       "      <td>VOC2010/JPEGImages\\2008_000032.jpg</td>\n",
       "      <td>VOC2010/all_person_masks\\2008_000032.mat</td>\n",
       "    </tr>\n",
       "  </tbody>\n",
       "</table>\n",
       "</div>"
      ],
      "text/plain": [
       "<div>\n",
       "<style scoped>\n",
       "    .dataframe tbody tr th:only-of-type {\n",
       "        vertical-align: middle;\n",
       "    }\n",
       "\n",
       "    .dataframe tbody tr th {\n",
       "        vertical-align: top;\n",
       "    }\n",
       "\n",
       "    .dataframe thead th {\n",
       "        text-align: right;\n",
       "    }\n",
       "</style>\n",
       "<table border=\"1\" class=\"dataframe\">\n",
       "  <thead>\n",
       "    <tr style=\"text-align: right;\">\n",
       "      <th></th>\n",
       "      <th>jpg_path</th>\n",
       "      <th>mat_path</th>\n",
       "    </tr>\n",
       "  </thead>\n",
       "  <tbody>\n",
       "    <tr>\n",
       "      <th>0</th>\n",
       "      <td>VOC2010/JPEGImages\\2008_000003.jpg</td>\n",
       "      <td>VOC2010/all_person_masks\\2008_000003.mat</td>\n",
       "    </tr>\n",
       "    <tr>\n",
       "      <th>1</th>\n",
       "      <td>VOC2010/JPEGImages\\2008_000008.jpg</td>\n",
       "      <td>VOC2010/all_person_masks\\2008_000008.mat</td>\n",
       "    </tr>\n",
       "    <tr>\n",
       "      <th>2</th>\n",
       "      <td>VOC2010/JPEGImages\\2008_000023.jpg</td>\n",
       "      <td>VOC2010/all_person_masks\\2008_000023.mat</td>\n",
       "    </tr>\n",
       "    <tr>\n",
       "      <th>3</th>\n",
       "      <td>VOC2010/JPEGImages\\2008_000026.jpg</td>\n",
       "      <td>VOC2010/all_person_masks\\2008_000026.mat</td>\n",
       "    </tr>\n",
       "    <tr>\n",
       "      <th>4</th>\n",
       "      <td>VOC2010/JPEGImages\\2008_000032.jpg</td>\n",
       "      <td>VOC2010/all_person_masks\\2008_000032.mat</td>\n",
       "    </tr>\n",
       "  </tbody>\n",
       "</table>\n",
       "</div>"
      ]
     },
     "execution_count": 2,
     "metadata": {},
     "output_type": "execute_result"
    }
   ],
   "source": [
    "# read the all names of files that contains person\n",
    "# get the path of masks and the path of data\n",
    "person_names_mat = os.listdir('VOC2010/all_person_masks')\n",
    "person_names_jpg = []\n",
    "for i in range(len(person_names_mat)):\n",
    "    temp = person_names_mat[i][:-4]+'.jpg'\n",
    "    person_names_jpg.append(temp)\n",
    "mat_path = []\n",
    "for i in range(len(person_names_mat)):\n",
    "    path = os.path.join('VOC2010/all_person_masks',person_names_mat[i])\n",
    "    mat_path.append(path)\n",
    "jpg_path = []\n",
    "for i in range(len(person_names_jpg)):\n",
    "    path = os.path.join('VOC2010/JPEGImages',person_names_jpg[i])\n",
    "    jpg_path.append(path)\n",
    "data_table = pd.DataFrame(jpg_path,columns=['jpg_path'])\n",
    "mat_path_df = pd.DataFrame(mat_path,columns=['mat_path'])\n",
    "data_table = pd.concat([data_table,mat_path_df],axis=1)\n",
    "data_table.head()\n"
   ]
  },
  {
   "cell_type": "code",
   "execution_count": null,
   "metadata": {},
   "outputs": [],
   "source": [
    "# read and preprosess the data\n",
    "# read img\n",
    "Data = []\n",
    "for i in range(30):\n",
    "    test_img = image.load_img(data_table['jpg_path'][i])\n",
    "    test_img = image.img_to_array(test_img)\n",
    "    # read mask\n",
    "    test_mask = scipy.io.loadmat(data_table['mat_path'][i])['single_map']\n",
    "    crop1,crop2,crop3 = random_put_into_256map(test_img,test_mask)\n",
    "    Data.append(crop1)\n",
    "    Data.append(crop2)\n",
    "    Data.append(crop3)"
   ]
  },
  {
   "cell_type": "code",
   "execution_count": null,
   "metadata": {},
   "outputs": [],
   "source": [
    "# split the data into train and validation\n",
    "train_data = Data[0:70]\n",
    "val_data = Data[70:90]\n"
   ]
  },
  {
   "cell_type": "markdown",
   "metadata": {},
   "source": [
    "## ---test---"
   ]
  },
  {
   "cell_type": "code",
   "execution_count": 28,
   "metadata": {},
   "outputs": [],
   "source": [
    "img,mask = get_next_batch(train_data)\n",
    "plt.figure()\n",
    "plt.imshow(img/255)\n",
    "plt.show()\n",
    "plt.figure()\n",
    "plt.imshow(mask)\n",
    "plt.show()\n",
    "aug_img,aug_mask = augmentor_with_keras(img,mask)\n",
    "plt.figure()\n",
    "plt.imshow(aug_img/255)\n",
    "plt.show()\n",
    "plt.figure()\n",
    "plt.imshow(aug_mask)\n",
    "plt.show()\n",
    "scale_mask = my_scale(aug_mask)\n",
    "plt.figure()\n",
    "plt.imshow(scale_mask)\n",
    "plt.show()"
   ]
  },
  {
   "cell_type": "markdown",
   "metadata": {},
   "source": [
    "## ---test end---",
    "\n",
    ""
   ]
  },
  {
   "cell_type": "code",
   "execution_count": null,
   "metadata": {},
   "outputs": [],
   "source": [
    "def process_config(conf_file):\n",
    "\t\"\"\"\n",
    "\t\"\"\"\n",
    "\tparams = {}\n",
    "\tconfig = configparser.ConfigParser()\n",
    "\tconfig.read(conf_file)\n",
    "\tfor section in config.sections():\n",
    "\t\tif section == 'DataSetHG':\n",
    "\t\t\tfor option in config.options(section):\n",
    "\t\t\t\tparams[option] = eval(config.get(section, option))\n",
    "\t\tif section == 'Network':\n",
    "\t\t\tfor option in config.options(section):\n",
    "\t\t\t\tparams[option] = eval(config.get(section, option))\n",
    "\t\tif section == 'Train':\n",
    "\t\t\tfor option in config.options(section):\n",
    "\t\t\t\tparams[option] = eval(config.get(section, option))\n",
    "\t\tif section == 'Validation':\n",
    "\t\t\tfor option in config.options(section):\n",
    "\t\t\t\tparams[option] = eval(config.get(section, option))\n",
    "\t\tif section == 'Saver':\n",
    "\t\t\tfor option in config.options(section):\n",
    "\t\t\t\tparams[option] = eval(config.get(section, option))\n",
    "\treturn params\n",
    "print('--Parsing Config File')\n",
    "params = process_config('config.cfg')"
   ]
  },
  {
   "cell_type": "code",
   "execution_count": null,
   "metadata": {},
   "outputs": [],
   "source": [
    "model = HourglassModel(nFeat=params['nfeats'], nStack=params['nstacks'], \n",
    "                       nModules=params['nmodules'], \n",
    "                       nLow=params['nlow'], outputDim=params['num_joints'], \n",
    "                       batch_size=params['batch_size'], attention = params['mcam'],\n",
    "                       training=True, drop_rate= params['dropout_rate'], \n",
    "                       lear_rate=params['learning_rate'], \n",
    "                       decay=params['learning_rate_decay'], \n",
    "                       decay_step=params['decay_step'], \n",
    "                       name=params['name'], \n",
    "                       logdir_train=params['log_dir_train'], \n",
    "                       logdir_test=params['log_dir_test'], \n",
    "                       tiny= params['tiny'], w_loss=params['weighted_loss'] , \n",
    "                       joints= params['joint_list'],modif=False)\n",
    "model.generate_model()"
   ]
  },
  {
   "cell_type": "code",
   "execution_count": null,
   "metadata": {},
   "outputs": [],
   "source": [
    "# output: (None,8,64,64,15)\n",
    "output = model.get_output()\n",
    "loss = model.loss\n",
    "out = output[0,7]\n",
    "pred_seg = tf.argmax(out,axis=2)\n",
    "train_step = tf.train.RMSPropOptimizer(1e-3).minimize(loss)"
   ]
  },
  {
   "cell_type": "code",
   "execution_count": null,
   "metadata": {},
   "outputs": [],
   "source": [
    "saver = tf.train.Saver()\n",
    "sess = tf.Session()\n",
    "init = tf.global_variables_initializer()\n",
    "sess.run(init)"
   ]
  },
  {
   "cell_type": "code",
   "execution_count": null,
   "metadata": {},
   "outputs": [],
   "source": [
    "# train\n",
    "iteration = []\n",
    "acc_list = []\n",
    "iou_list = []\n",
    "for i in range(10):\n",
    "    x_b,y_b = get_next_batch(train_data,train_label)\n",
    "    x,y = get_augmentor_batch(x_b,y_b,3)\n",
    "    sess.run(train_step,feed_dict={model.img:x, model.gtMaps:y})\n",
    "\n",
    "    x_for_eval = np.expand_dims(x_b,axis=0)\n",
    "    pred = sess.run(pred_seg,feed_dict={model.img:x_for_eval})\n",
    "    acc = cal_acc(pred,y_b)\n",
    "    iou = cal_iou(pred,y_b)\n",
    "    print('acc:%f',acc,'  ','iou:%f',iou)\n",
    "    iteration.append(i)\n",
    "    acc_list.append(acc)\n",
    "    iou_list.append(iou)"
   ]
  },
  {
   "cell_type": "code",
   "execution_count": null,
   "metadata": {},
   "outputs": [],
   "source": [
    "# save iou and acc\n",
    "eval_info = pd.DataFrame([iteration,acc_list,iou_list],columns=['iter','accracy','iou'])\n",
    "eval_info.to_csv('training_info_with_pascal.csv')"
   ]
  },
  {
   "cell_type": "code",
   "execution_count": null,
   "metadata": {},
   "outputs": [],
   "source": [
    "# save the network\n",
    "path = \"my_net_with_pascal\"\n",
    "is_exist = os.path.exists(path)\n",
    "if not is_exist:\n",
    "    os.makedirs(path)\n",
    "full_path = os.path.join(path,'save_net.ckpt')\n",
    "save_path = saver.save(sess,full_path)"
   ]
  }
 ],
 "metadata": {
  "kernelspec": {
   "display_name": "Python 2",
   "language": "python",
   "name": "python2"
  },
  "language_info": {
   "codemirror_mode": {
    "name": "ipython",
    "version": 2
   },
   "file_extension": ".py",
   "mimetype": "text/x-python",
   "name": "python",
   "nbconvert_exporter": "python",
   "pygments_lexer": "ipython2",
   "version": "2.7.6"
  }
 },
 "nbformat": 4,
 "nbformat_minor": 0
}
